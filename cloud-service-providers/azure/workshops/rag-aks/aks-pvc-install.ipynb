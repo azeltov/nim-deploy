{
 "cells": [
  {
   "cell_type": "markdown",
   "id": "bd62f034-6c6d-480c-96fb-e54811ed60b6",
   "metadata": {},
   "source": [
    "# Deploying NV-Ingest On A Single NVIDIA GPU\n",
    "\n",
    "This document covers the process of deploying NV-Ingest On A Single GPU. A few prerequisites are expected before running through this notebook, the notebook will cover the process of configuring GPU sharing via time-slicing using the NVIDIA GPU Operator. From there, NV-Ingest will be deployed on a local kubernetes cluster that is exposed to a single GPU. A few prerequisite assumptions include the following:\n",
    "\n",
    "- Access To At Least 1 GPU (An A100 80GB GPU is used in this walkthrough)\n",
    "- Access To A GPU Enabled Kubernetes Cluster\n",
    "- Access to `kubectl` and `helm` CLI's\n",
    "- Access To A Default Storage Class For Dynamic Volume Provisioning - The application will use PVC's that pods will be mounted to\n",
    "- Access To Single GPU Node Pools - Access To Single GPU Node Pools is recommended for this walkthrough. Time-slicing will advertise a single GPU as a bunch of replicas (slices) but this is all still under a single GPU, so when scheduling it's gauranteed that all the applications requesting resources will all get scheduled onto the same GPU. Adding another GPU into the mix will not guarantee that all workloads will be scheduled onto a single GPU.  GPU scheduling "
   ]
  },
  {
   "cell_type": "markdown",
   "id": "0cd670e8-68dd-4ace-83f5-d3ea0ab8801e",
   "metadata": {},
   "source": [
    "## Import Dependencies"
   ]
  },
  {
   "cell_type": "code",
   "execution_count": 12,
   "id": "8dd185c1",
   "metadata": {},
   "outputs": [
    {
     "name": "stderr",
     "output_type": "stream",
     "text": [
      "WARNING: No stable version of 'aks-preview' to install. Preview versions allowed.\n",
      "WARNING: Extension 'aks-preview' 9.0.0b7 is already installed.\n",
      "WARNING: No stable version of 'aks-preview' to install. Preview versions allowed.\n"
     ]
    }
   ],
   "source": [
    "%%bash\n",
    "\n",
    "az extension add --name aks-preview\n",
    "az extension update --name aks-preview"
   ]
  },
  {
   "cell_type": "code",
   "execution_count": null,
   "id": "f4e97ed4-45ed-45e5-91f7-e32bc19231c5",
   "metadata": {},
   "outputs": [],
   "source": [
    "import os"
   ]
  },
  {
   "cell_type": "markdown",
   "id": "5c35f297-8232-44a0-8446-16d174a24784",
   "metadata": {},
   "source": [
    "## Set NGC API Key\n",
    "\n",
    "An API key is needed to pull resources from NGC, we'll set this so it can be used to execute shell commands as an env variable"
   ]
  },
  {
   "cell_type": "code",
   "execution_count": 1,
   "id": "76e75ffa",
   "metadata": {},
   "outputs": [
    {
     "name": "stdout",
     "output_type": "stream",
     "text": [
      "Requirement already satisfied: python-dotenv in /Users/azeltov/miniconda3/envs/dev/lib/python3.10/site-packages (1.0.1)\n"
     ]
    }
   ],
   "source": [
    "!pip install python-dotenv"
   ]
  },
  {
   "cell_type": "code",
   "execution_count": 2,
   "id": "810f4e33-7917-429e-909d-8d82db579307",
   "metadata": {},
   "outputs": [
    {
     "data": {
      "text/plain": [
       "True"
      ]
     },
     "execution_count": 2,
     "metadata": {},
     "output_type": "execute_result"
    }
   ],
   "source": [
    "import os\n",
    "from dotenv import load_dotenv\n",
    "\n",
    "# os.environ[\"NGC_API_KEY\"] = \"nvapi-xxxxx\"\n",
    "\n",
    "# Load environment variables from .env file\n",
    "load_dotenv()"
   ]
  },
  {
   "cell_type": "code",
   "execution_count": 3,
   "id": "bce9e89e",
   "metadata": {},
   "outputs": [],
   "source": [
    "\n",
    "os.environ[\"REGION\"] = \"westeurope\"\n",
    "os.environ[\"RESOURCE_GROUP\"] = \"rg-aks-pvc\"\n",
    "os.environ[\"ZONE\"] = \"2\"\n",
    "os.environ[\"CPU_COUNT\"] = \"1\"\n",
    "os.environ[\"CLUSTER_NAME\"] = \"akspvc\""
   ]
  },
  {
   "cell_type": "code",
   "execution_count": 10,
   "id": "e4d2a84a",
   "metadata": {},
   "outputs": [
    {
     "name": "stdout",
     "output_type": "stream",
     "text": [
      "{\n",
      "  \"id\": \"/subscriptions/b7d41fc8-d35d-41db-92ed-1f7f1d32d4d9/resourceGroups/rg-aks-pvc\",\n",
      "  \"location\": \"westeurope\",\n",
      "  \"managedBy\": null,\n",
      "  \"name\": \"rg-aks-pvc\",\n",
      "  \"properties\": {\n",
      "    \"provisioningState\": \"Succeeded\"\n",
      "  },\n",
      "  \"tags\": null,\n",
      "  \"type\": \"Microsoft.Resources/resourceGroups\"\n",
      "}\n"
     ]
    }
   ],
   "source": [
    "!  az group create -l $REGION -n $RESOURCE_GROUP\n"
   ]
  },
  {
   "cell_type": "code",
   "execution_count": null,
   "id": "066c832b",
   "metadata": {},
   "outputs": [
    {
     "name": "stdout",
     "output_type": "stream",
     "text": [
      "\u001b[K \\ Finished .."
     ]
    }
   ],
   "source": [
    "#!  az group delete --resource-group $RESOURCE_GROUP --yes \n"
   ]
  },
  {
   "cell_type": "code",
   "execution_count": 12,
   "id": "f3a4353f",
   "metadata": {},
   "outputs": [
    {
     "name": "stdout",
     "output_type": "stream",
     "text": [
      "\u001b[33mThe default value of '--node-vm-size' will be changed to 'Dynamically Selected By Azure' from 'Standard_DS2_V2 (Linux), Standard_DS2_V3 (Windows)' in next breaking change release(2.73.0) scheduled for May 2025.\u001b[0m\n",
      "\u001b[93mThe behavior of this command has been altered by the following extension: aks-preview\u001b[0m\n",
      "\u001b[93mThe new node pool will enable SSH access, recommended to use '--ssh-access disabled' option to disable SSH access for the node pool to make it more secure.\u001b[0m\n",
      "\u001b[K{- Finished ..\n",
      "  \"aadProfile\": null,\n",
      "  \"addonProfiles\": null,\n",
      "  \"agentPoolProfiles\": [\n",
      "    {\n",
      "      \"artifactStreamingProfile\": null,\n",
      "      \"availabilityZones\": [\n",
      "        \"2\"\n",
      "      ],\n",
      "      \"capacityReservationGroupId\": null,\n",
      "      \"count\": 1,\n",
      "      \"creationData\": null,\n",
      "      \"currentOrchestratorVersion\": \"1.31.7\",\n",
      "      \"eTag\": \"0bdd96f7-e4c0-45e0-8fdd-8faca7a1cdb0\",\n",
      "      \"enableAutoScaling\": false,\n",
      "      \"enableCustomCaTrust\": false,\n",
      "      \"enableEncryptionAtHost\": false,\n",
      "      \"enableFips\": false,\n",
      "      \"enableNodePublicIp\": true,\n",
      "      \"enableUltraSsd\": false,\n",
      "      \"gatewayProfile\": null,\n",
      "      \"gpuInstanceProfile\": null,\n",
      "      \"gpuProfile\": null,\n",
      "      \"hostGroupId\": null,\n",
      "      \"kubeletConfig\": null,\n",
      "      \"kubeletDiskType\": \"OS\",\n",
      "      \"linuxOsConfig\": null,\n",
      "      \"maxCount\": null,\n",
      "      \"maxPods\": 250,\n",
      "      \"messageOfTheDay\": null,\n",
      "      \"minCount\": null,\n",
      "      \"mode\": \"System\",\n",
      "      \"name\": \"nodepool1\",\n",
      "      \"networkProfile\": {\n",
      "        \"allowedHostPorts\": null,\n",
      "        \"applicationSecurityGroups\": null,\n",
      "        \"nodePublicIpTags\": null\n",
      "      },\n",
      "      \"nodeImageVersion\": \"AKSUbuntu-2204gen2containerd-202504.06.0\",\n",
      "      \"nodeInitializationTaints\": null,\n",
      "      \"nodeLabels\": null,\n",
      "      \"nodePublicIpPrefixId\": null,\n",
      "      \"nodeTaints\": null,\n",
      "      \"orchestratorVersion\": \"1.31\",\n",
      "      \"osDiskSizeGb\": 128,\n",
      "      \"osDiskType\": \"Managed\",\n",
      "      \"osSku\": \"Ubuntu\",\n",
      "      \"osType\": \"Linux\",\n",
      "      \"podIpAllocationMode\": null,\n",
      "      \"podSubnetId\": null,\n",
      "      \"powerState\": {\n",
      "        \"code\": \"Running\"\n",
      "      },\n",
      "      \"provisioningState\": \"Succeeded\",\n",
      "      \"proximityPlacementGroupId\": null,\n",
      "      \"scaleDownMode\": \"Delete\",\n",
      "      \"scaleSetEvictionPolicy\": null,\n",
      "      \"scaleSetPriority\": null,\n",
      "      \"securityProfile\": {\n",
      "        \"enableSecureBoot\": false,\n",
      "        \"enableVtpm\": false,\n",
      "        \"sshAccess\": \"LocalUser\"\n",
      "      },\n",
      "      \"spotMaxPrice\": null,\n",
      "      \"status\": null,\n",
      "      \"tags\": null,\n",
      "      \"type\": \"VirtualMachineScaleSets\",\n",
      "      \"upgradeSettings\": {\n",
      "        \"drainTimeoutInMinutes\": null,\n",
      "        \"maxBlockedNodes\": null,\n",
      "        \"maxSurge\": \"10%\",\n",
      "        \"maxUnavailable\": \"0\",\n",
      "        \"nodeSoakDurationInMinutes\": null,\n",
      "        \"undrainableNodeBehavior\": null\n",
      "      },\n",
      "      \"virtualMachineNodesStatus\": null,\n",
      "      \"virtualMachinesProfile\": null,\n",
      "      \"vmSize\": \"Standard_D4s_v3\",\n",
      "      \"vnetSubnetId\": null,\n",
      "      \"windowsProfile\": null,\n",
      "      \"workloadRuntime\": \"OCIContainer\"\n",
      "    }\n",
      "  ],\n",
      "  \"aiToolchainOperatorProfile\": null,\n",
      "  \"apiServerAccessProfile\": null,\n",
      "  \"autoScalerProfile\": null,\n",
      "  \"autoUpgradeProfile\": {\n",
      "    \"nodeOsUpgradeChannel\": \"NodeImage\",\n",
      "    \"upgradeChannel\": null\n",
      "  },\n",
      "  \"azureMonitorProfile\": null,\n",
      "  \"azurePortalFqdn\": \"akspvc-rg-aks-pvc-b7d41f-c6gt4q1e.portal.hcp.westeurope.azmk8s.io\",\n",
      "  \"bootstrapProfile\": {\n",
      "    \"artifactSource\": \"Direct\",\n",
      "    \"containerRegistryId\": null\n",
      "  },\n",
      "  \"creationData\": null,\n",
      "  \"currentKubernetesVersion\": \"1.31.7\",\n",
      "  \"disableLocalAccounts\": false,\n",
      "  \"diskEncryptionSetId\": null,\n",
      "  \"dnsPrefix\": \"akspvc-rg-aks-pvc-b7d41f\",\n",
      "  \"eTag\": \"07742435-6fd5-40f1-b060-6b55447ea078\",\n",
      "  \"enableNamespaceResources\": null,\n",
      "  \"enablePodSecurityPolicy\": false,\n",
      "  \"enableRbac\": true,\n",
      "  \"extendedLocation\": null,\n",
      "  \"fqdn\": \"akspvc-rg-aks-pvc-b7d41f-c6gt4q1e.hcp.westeurope.azmk8s.io\",\n",
      "  \"fqdnSubdomain\": null,\n",
      "  \"httpProxyConfig\": null,\n",
      "  \"id\": \"/subscriptions/b7d41fc8-d35d-41db-92ed-1f7f1d32d4d9/resourcegroups/rg-aks-pvc/providers/Microsoft.ContainerService/managedClusters/akspvc\",\n",
      "  \"identity\": {\n",
      "    \"delegatedResources\": null,\n",
      "    \"principalId\": \"2cf556fd-53f7-4472-88a0-65fa57f31a17\",\n",
      "    \"tenantId\": \"43083d15-7273-40c1-b7db-39efd9ccc17a\",\n",
      "    \"type\": \"SystemAssigned\",\n",
      "    \"userAssignedIdentities\": null\n",
      "  },\n",
      "  \"identityProfile\": {\n",
      "    \"kubeletidentity\": {\n",
      "      \"clientId\": \"b592ba18-86bf-4d62-ac96-683d5f203d5a\",\n",
      "      \"objectId\": \"0dcdbaef-7d4f-4e72-83e9-bf461d50f446\",\n",
      "      \"resourceId\": \"/subscriptions/b7d41fc8-d35d-41db-92ed-1f7f1d32d4d9/resourcegroups/MC_rg-aks-pvc_akspvc_westeurope/providers/Microsoft.ManagedIdentity/userAssignedIdentities/akspvc-agentpool\"\n",
      "    }\n",
      "  },\n",
      "  \"ingressProfile\": null,\n",
      "  \"kind\": \"Base\",\n",
      "  \"kubernetesVersion\": \"1.31\",\n",
      "  \"linuxProfile\": {\n",
      "    \"adminUsername\": \"azureuser\",\n",
      "    \"ssh\": {\n",
      "      \"publicKeys\": [\n",
      "        {\n",
      "          \"keyData\": \"ssh-rsa AAAAB3NzaC1yc2EAAAADAQABAAACAQCkHF/95Lol8kvlETZbNQ28XHnLuUwxb+f4ttPTUiFqYuXw4PaBIVZYa/eGFxVK5BDd3QLQ4gPVJXxKfKQK3OgvFvMtj//DyWYQXWelsybzvfKKoTrQvToWFxKRWunr8TwGbhY22RBWmVneQFJY9HhqgH66YIXhA8Az3wgDzQ4t/1lxqJQmbY7eXDBKVUWf94vIo4UMkN8OpzCSS7FIiWszFDwX1Q+q58e9ZjqqaQHRh8wqCNNQWDd171nNTlZKTxEty+T00mCUiP574DIjiyUVy+8B2nvKYqfxfY95SvO7xj3J0DbncrT+kkS5N1FEC1WS/cg+z0JWfbZ6FVJ1sVk4pm1o4TQ7iXmmxMh3OLIw6OwHxnudwEY1v6oZsDpw+DR9mvEq81UQ2gKbMoODUndhC9nDCHiqDnkkjqAoVJh5tcI6WkVvLnGH+BvhIO2a1T+5PrwYgSLFG2FhB5aEJYkh6wSa/ugT3A6SL4Al3asY8AokzdnETSrlXg9P++iosDL5yzCp0P+KsIIaoJkfV9tI15RvcEenPJmgdqeGIBROsfnLhm5iqD8UUC2ch1ZLCu3nlDjPj4hxGPHRxpq/WZ7aGBKj0pUUuFE3owfrlU1TQUwAtTLu1hz+nR87xui9wYwfsiuw2ZmoFVTQfXZb2XTw83DAxU56KGUPxB2xgVbbCQ== azeltov@gmail.com\\n\"\n",
      "        }\n",
      "      ]\n",
      "    }\n",
      "  },\n",
      "  \"location\": \"westeurope\",\n",
      "  \"maxAgentPools\": 100,\n",
      "  \"metricsProfile\": {\n",
      "    \"costAnalysis\": {\n",
      "      \"enabled\": false\n",
      "    }\n",
      "  },\n",
      "  \"name\": \"akspvc\",\n",
      "  \"networkProfile\": {\n",
      "    \"advancedNetworking\": null,\n",
      "    \"dnsServiceIp\": \"10.0.0.10\",\n",
      "    \"ipFamilies\": [\n",
      "      \"IPv4\"\n",
      "    ],\n",
      "    \"kubeProxyConfig\": null,\n",
      "    \"loadBalancerProfile\": {\n",
      "      \"allocatedOutboundPorts\": null,\n",
      "      \"backendPoolType\": \"nodeIPConfiguration\",\n",
      "      \"clusterServiceLoadBalancerHealthProbeMode\": null,\n",
      "      \"effectiveOutboundIPs\": [\n",
      "        {\n",
      "          \"id\": \"/subscriptions/b7d41fc8-d35d-41db-92ed-1f7f1d32d4d9/resourceGroups/MC_rg-aks-pvc_akspvc_westeurope/providers/Microsoft.Network/publicIPAddresses/9230304a-2fd4-4f25-a833-9bffd08d92f2\",\n",
      "          \"resourceGroup\": \"MC_rg-aks-pvc_akspvc_westeurope\"\n",
      "        }\n",
      "      ],\n",
      "      \"enableMultipleStandardLoadBalancers\": null,\n",
      "      \"idleTimeoutInMinutes\": null,\n",
      "      \"managedOutboundIPs\": {\n",
      "        \"count\": 1,\n",
      "        \"countIpv6\": null\n",
      "      },\n",
      "      \"outboundIPs\": null,\n",
      "      \"outboundIpPrefixes\": null\n",
      "    },\n",
      "    \"loadBalancerSku\": \"standard\",\n",
      "    \"natGatewayProfile\": null,\n",
      "    \"networkDataplane\": \"azure\",\n",
      "    \"networkMode\": null,\n",
      "    \"networkPlugin\": \"azure\",\n",
      "    \"networkPluginMode\": \"overlay\",\n",
      "    \"networkPolicy\": \"none\",\n",
      "    \"outboundType\": \"loadBalancer\",\n",
      "    \"podCidr\": \"10.244.0.0/16\",\n",
      "    \"podCidrs\": [\n",
      "      \"10.244.0.0/16\"\n",
      "    ],\n",
      "    \"podLinkLocalAccess\": \"IMDS\",\n",
      "    \"serviceCidr\": \"10.0.0.0/16\",\n",
      "    \"serviceCidrs\": [\n",
      "      \"10.0.0.0/16\"\n",
      "    ],\n",
      "    \"staticEgressGatewayProfile\": null\n",
      "  },\n",
      "  \"nodeProvisioningProfile\": {\n",
      "    \"mode\": \"Manual\"\n",
      "  },\n",
      "  \"nodeResourceGroup\": \"MC_rg-aks-pvc_akspvc_westeurope\",\n",
      "  \"nodeResourceGroupProfile\": null,\n",
      "  \"oidcIssuerProfile\": {\n",
      "    \"enabled\": false,\n",
      "    \"issuerUrl\": null\n",
      "  },\n",
      "  \"podIdentityProfile\": null,\n",
      "  \"powerState\": {\n",
      "    \"code\": \"Running\"\n",
      "  },\n",
      "  \"privateFqdn\": null,\n",
      "  \"privateLinkResources\": null,\n",
      "  \"provisioningState\": \"Succeeded\",\n",
      "  \"publicNetworkAccess\": null,\n",
      "  \"resourceGroup\": \"rg-aks-pvc\",\n",
      "  \"resourceUid\": \"6814eb9172103f00015e3b5f\",\n",
      "  \"safeguardsProfile\": null,\n",
      "  \"securityProfile\": {\n",
      "    \"azureKeyVaultKms\": null,\n",
      "    \"customCaTrustCertificates\": null,\n",
      "    \"defender\": null,\n",
      "    \"imageCleaner\": null,\n",
      "    \"imageIntegrity\": null,\n",
      "    \"nodeRestriction\": null,\n",
      "    \"workloadIdentity\": null\n",
      "  },\n",
      "  \"serviceMeshProfile\": null,\n",
      "  \"servicePrincipalProfile\": {\n",
      "    \"clientId\": \"msi\",\n",
      "    \"secret\": null\n",
      "  },\n",
      "  \"sku\": {\n",
      "    \"name\": \"Base\",\n",
      "    \"tier\": \"Free\"\n",
      "  },\n",
      "  \"status\": null,\n",
      "  \"storageProfile\": {\n",
      "    \"blobCsiDriver\": null,\n",
      "    \"diskCsiDriver\": {\n",
      "      \"enabled\": true,\n",
      "      \"version\": \"v1\"\n",
      "    },\n",
      "    \"fileCsiDriver\": {\n",
      "      \"enabled\": true\n",
      "    },\n",
      "    \"snapshotController\": {\n",
      "      \"enabled\": true\n",
      "    }\n",
      "  },\n",
      "  \"supportPlan\": \"KubernetesOfficial\",\n",
      "  \"systemData\": null,\n",
      "  \"tags\": null,\n",
      "  \"type\": \"Microsoft.ContainerService/ManagedClusters\",\n",
      "  \"upgradeSettings\": null,\n",
      "  \"windowsProfile\": null,\n",
      "  \"workloadAutoScalerProfile\": {\n",
      "    \"keda\": null,\n",
      "    \"verticalPodAutoscaler\": null\n",
      "  }\n",
      "}\n"
     ]
    }
   ],
   "source": [
    "! az aks create -g  $RESOURCE_GROUP -n $CLUSTER_NAME --location $REGION --zones $ZONE --node-count $CPU_COUNT --enable-node-public-ip  --node-vm-size Standard_D4s_v3 --ssh-key-value ~/.ssh/id_rsa.pub"
   ]
  },
  {
   "cell_type": "code",
   "execution_count": 13,
   "id": "d31e00be",
   "metadata": {},
   "outputs": [
    {
     "name": "stdout",
     "output_type": "stream",
     "text": [
      "\u001b[93mThe behavior of this command has been altered by the following extension: aks-preview\u001b[0m\n",
      "\u001b[93m/Users/azeltov/.kube/config has permissions \"644\".\n",
      "It should be readable and writable only by its owner.\u001b[0m\n",
      "\u001b[93mMerged \"akspvc\" as current context in /Users/azeltov/.kube/config\u001b[0m\n"
     ]
    }
   ],
   "source": [
    "!az aks get-credentials --resource-group $RESOURCE_GROUP --name $CLUSTER_NAME\n"
   ]
  },
  {
   "cell_type": "code",
   "execution_count": 14,
   "id": "03f9ac1e",
   "metadata": {},
   "outputs": [
    {
     "name": "stdout",
     "output_type": "stream",
     "text": [
      "CURRENT   NAME      CLUSTER   AUTHINFO                          NAMESPACE\n",
      "          aksnemo   aksnemo   clusterUser_rg-aks-nemo_aksnemo   \n",
      "*         akspvc    akspvc    clusterUser_rg-aks-pvc_akspvc     \n"
     ]
    }
   ],
   "source": [
    "!kubectl config get-contexts\n"
   ]
  },
  {
   "cell_type": "code",
   "execution_count": 15,
   "id": "57f17277",
   "metadata": {},
   "outputs": [],
   "source": [
    "os.environ[\"STORAGE_ACCOUNT_NAME\"] = \"stgmodelweights\"\n",
    "os.environ[\"FILE_SHARE_NAME\"] = \"huggingface-models\""
   ]
  },
  {
   "cell_type": "markdown",
   "id": "13eee230",
   "metadata": {},
   "source": [
    "## Create a storage account (supports Azure Files)\n"
   ]
  },
  {
   "cell_type": "code",
   "execution_count": 16,
   "id": "f89ab741",
   "metadata": {},
   "outputs": [
    {
     "name": "stdout",
     "output_type": "stream",
     "text": [
      "\u001b[K{/ Finished ..\n",
      "  \"accessTier\": \"Hot\",\n",
      "  \"accountMigrationInProgress\": null,\n",
      "  \"allowBlobPublicAccess\": false,\n",
      "  \"allowCrossTenantReplication\": false,\n",
      "  \"allowSharedKeyAccess\": null,\n",
      "  \"allowedCopyScope\": null,\n",
      "  \"azureFilesIdentityBasedAuthentication\": null,\n",
      "  \"blobRestoreStatus\": null,\n",
      "  \"creationTime\": \"2025-05-02T16:04:16.278312+00:00\",\n",
      "  \"customDomain\": null,\n",
      "  \"defaultToOAuthAuthentication\": null,\n",
      "  \"dnsEndpointType\": null,\n",
      "  \"enableExtendedGroups\": null,\n",
      "  \"enableHttpsTrafficOnly\": true,\n",
      "  \"enableNfsV3\": null,\n",
      "  \"encryption\": {\n",
      "    \"encryptionIdentity\": null,\n",
      "    \"keySource\": \"Microsoft.Storage\",\n",
      "    \"keyVaultProperties\": null,\n",
      "    \"requireInfrastructureEncryption\": null,\n",
      "    \"services\": {\n",
      "      \"blob\": {\n",
      "        \"enabled\": true,\n",
      "        \"keyType\": \"Account\",\n",
      "        \"lastEnabledTime\": \"2025-05-02T16:04:16.465809+00:00\"\n",
      "      },\n",
      "      \"file\": {\n",
      "        \"enabled\": true,\n",
      "        \"keyType\": \"Account\",\n",
      "        \"lastEnabledTime\": \"2025-05-02T16:04:16.465809+00:00\"\n",
      "      },\n",
      "      \"queue\": null,\n",
      "      \"table\": null\n",
      "    }\n",
      "  },\n",
      "  \"extendedLocation\": null,\n",
      "  \"failoverInProgress\": null,\n",
      "  \"geoReplicationStats\": null,\n",
      "  \"id\": \"/subscriptions/b7d41fc8-d35d-41db-92ed-1f7f1d32d4d9/resourceGroups/rg-aks-pvc/providers/Microsoft.Storage/storageAccounts/stgmodelweights\",\n",
      "  \"identity\": null,\n",
      "  \"immutableStorageWithVersioning\": null,\n",
      "  \"isHnsEnabled\": null,\n",
      "  \"isLocalUserEnabled\": null,\n",
      "  \"isSftpEnabled\": null,\n",
      "  \"isSkuConversionBlocked\": null,\n",
      "  \"keyCreationTime\": {\n",
      "    \"key1\": \"2025-05-02T16:04:16.450184+00:00\",\n",
      "    \"key2\": \"2025-05-02T16:04:16.450184+00:00\"\n",
      "  },\n",
      "  \"keyPolicy\": null,\n",
      "  \"kind\": \"StorageV2\",\n",
      "  \"largeFileSharesState\": null,\n",
      "  \"lastGeoFailoverTime\": null,\n",
      "  \"location\": \"westeurope\",\n",
      "  \"minimumTlsVersion\": \"TLS1_0\",\n",
      "  \"name\": \"stgmodelweights\",\n",
      "  \"networkRuleSet\": {\n",
      "    \"bypass\": \"AzureServices\",\n",
      "    \"defaultAction\": \"Allow\",\n",
      "    \"ipRules\": [],\n",
      "    \"ipv6Rules\": [],\n",
      "    \"resourceAccessRules\": null,\n",
      "    \"virtualNetworkRules\": []\n",
      "  },\n",
      "  \"primaryEndpoints\": {\n",
      "    \"blob\": \"https://stgmodelweights.blob.core.windows.net/\",\n",
      "    \"dfs\": \"https://stgmodelweights.dfs.core.windows.net/\",\n",
      "    \"file\": \"https://stgmodelweights.file.core.windows.net/\",\n",
      "    \"internetEndpoints\": null,\n",
      "    \"microsoftEndpoints\": null,\n",
      "    \"queue\": \"https://stgmodelweights.queue.core.windows.net/\",\n",
      "    \"table\": \"https://stgmodelweights.table.core.windows.net/\",\n",
      "    \"web\": \"https://stgmodelweights.z6.web.core.windows.net/\"\n",
      "  },\n",
      "  \"primaryLocation\": \"westeurope\",\n",
      "  \"privateEndpointConnections\": [],\n",
      "  \"provisioningState\": \"Succeeded\",\n",
      "  \"publicNetworkAccess\": null,\n",
      "  \"resourceGroup\": \"rg-aks-pvc\",\n",
      "  \"routingPreference\": null,\n",
      "  \"sasPolicy\": null,\n",
      "  \"secondaryEndpoints\": null,\n",
      "  \"secondaryLocation\": null,\n",
      "  \"sku\": {\n",
      "    \"name\": \"Standard_LRS\",\n",
      "    \"tier\": \"Standard\"\n",
      "  },\n",
      "  \"statusOfPrimary\": \"available\",\n",
      "  \"statusOfSecondary\": null,\n",
      "  \"storageAccountSkuConversionStatus\": null,\n",
      "  \"tags\": {},\n",
      "  \"type\": \"Microsoft.Storage/storageAccounts\"\n",
      "}\n"
     ]
    }
   ],
   "source": [
    "!az storage account create \\\n",
    "  --resource-group $RESOURCE_GROUP \\\n",
    "  --name $STORAGE_ACCOUNT_NAME \\\n",
    "  --sku Standard_LRS \\\n",
    "  --kind StorageV2"
   ]
  },
  {
   "cell_type": "code",
   "execution_count": null,
   "id": "89673f39",
   "metadata": {},
   "outputs": [],
   "source": [
    "%%bash\n",
    "# Get the account key\n",
    "ACCOUNT_KEY=$(az storage account keys list \\\n",
    "  --resource-group $RESOURCE_GROUP \\\n",
    "  --account-name $STORAGE_ACCOUNT_NAME \\\n",
    "  --query '[0].value' -o tsv)\n",
    "\n",
    "#echo $ACCOUNT_KEY\n",
    "\n",
    "# Create the file share\n",
    "az storage share create \\\n",
    "  --name $FILE_SHARE_NAME \\\n",
    "  --account-name $STORAGE_ACCOUNT_NAME \\\n",
    "  --account-key $ACCOUNT_KEY"
   ]
  },
  {
   "cell_type": "markdown",
   "id": "130e6a92",
   "metadata": {},
   "source": [
    "First, let's update the storage account's network rules to allow access from the AKS cluster's virtual network:"
   ]
  },
  {
   "cell_type": "code",
   "execution_count": null,
   "id": "ac932e5b",
   "metadata": {},
   "outputs": [],
   "source": [
    "!az storage account update --name stgmodelweights --resource-group rg-aks-pvc --default-action Allow"
   ]
  },
  {
   "cell_type": "code",
   "execution_count": 20,
   "id": "4e80af84",
   "metadata": {},
   "outputs": [
    {
     "name": "stdout",
     "output_type": "stream",
     "text": [
      "namespace/nim created\n"
     ]
    }
   ],
   "source": [
    "!kubectl create namespace nim"
   ]
  },
  {
   "cell_type": "code",
   "execution_count": 21,
   "id": "2334b681",
   "metadata": {},
   "outputs": [
    {
     "name": "stderr",
     "output_type": "stream",
     "text": [
      "bash: line 1: Now: command not found\n"
     ]
    },
    {
     "name": "stdout",
     "output_type": "stream",
     "text": [
      "secret/azure-secret created\n"
     ]
    }
   ],
   "source": [
    "%%bash\n",
    "Now create a secret in your AKS cluster with the storage credentials:\n",
    "kubectl create secret generic azure-secret \\\n",
    "  --from-literal=azurestorageaccountname=$STORAGE_ACCOUNT_NAME \\\n",
    "  --from-literal=azurestorageaccountkey=$ACCOUNT_KEY \\\n",
    "  -n nim  "
   ]
  },
  {
   "cell_type": "code",
   "execution_count": 22,
   "id": "9ea4ceef",
   "metadata": {},
   "outputs": [],
   "source": [
    "!mkdir -p manifests"
   ]
  },
  {
   "cell_type": "code",
   "execution_count": 5,
   "id": "b0202b10",
   "metadata": {},
   "outputs": [],
   "source": [
    "%%bash\n",
    "cat << EOF > manifests/azurefile-pv-pvc.yaml\n",
    "apiVersion: v1\n",
    "kind: PersistentVolume\n",
    "metadata:\n",
    "  name: hf-models-pv\n",
    "  labels:\n",
    "    volume: hf-models\n",
    "spec:\n",
    "  capacity:\n",
    "    storage: 600Gi\n",
    "  accessModes:\n",
    "    - ReadWriteMany\n",
    "  persistentVolumeReclaimPolicy: Retain\n",
    "  storageClassName: azurefile\n",
    "  volumeMode: Filesystem\n",
    "  azureFile:\n",
    "    secretName: azure-secret\n",
    "    shareName: huggingface-models\n",
    "    readOnly: false\n",
    "\n",
    "---\n",
    "apiVersion: v1\n",
    "kind: PersistentVolumeClaim\n",
    "metadata:\n",
    "  name: hf-models-pvc\n",
    "  namespace: nim\n",
    "spec:\n",
    "  accessModes:\n",
    "    - ReadWriteMany\n",
    "  storageClassName: azurefile\n",
    "  volumeMode: Filesystem\n",
    "  resources:\n",
    "    requests:\n",
    "      storage: 600Gi\n",
    "  selector:\n",
    "    matchLabels:\n",
    "      volume: hf-models\n",
    "EOF"
   ]
  },
  {
   "cell_type": "code",
   "execution_count": 6,
   "id": "b583bbb1",
   "metadata": {},
   "outputs": [
    {
     "name": "stdout",
     "output_type": "stream",
     "text": [
      "persistentvolume/hf-models-pv created\n",
      "persistentvolumeclaim/hf-models-pvc created\n"
     ]
    }
   ],
   "source": [
    "!kubectl apply -f manifests/azurefile-pv-pvc.yaml\n",
    "\n"
   ]
  },
  {
   "cell_type": "code",
   "execution_count": 7,
   "id": "3af2c69e",
   "metadata": {},
   "outputs": [],
   "source": [
    "%%bash\n",
    "cat << EOF > manifests/debug-pod.yaml\n",
    "apiVersion: v1\n",
    "kind: Pod\n",
    "metadata:\n",
    "  name: debug-hf-pod\n",
    "spec:\n",
    "  containers:\n",
    "  - name: writer\n",
    "    image: mcr.microsoft.com/oss/ubuntu/bash:latest\n",
    "    command: [ \"bash\", \"-c\", \"--\" ]\n",
    "    args: [ \"while true; do sleep 3600; done;\" ]\n",
    "    volumeMounts:\n",
    "    - name: modelvolume\n",
    "      mountPath: /mnt/models\n",
    "  volumes:\n",
    "  - name: modelvolume\n",
    "    persistentVolumeClaim:\n",
    "      claimName: hf-models-pvc\n",
    "  restartPolicy: Never\n",
    "EOF"
   ]
  },
  {
   "cell_type": "code",
   "execution_count": 8,
   "id": "66c2301c",
   "metadata": {},
   "outputs": [
    {
     "name": "stdout",
     "output_type": "stream",
     "text": [
      "pod/debug-hf-pod created\n"
     ]
    }
   ],
   "source": [
    "!kubectl apply -f manifests/debug-pod.yaml"
   ]
  },
  {
   "cell_type": "code",
   "execution_count": 9,
   "id": "784f69e3",
   "metadata": {},
   "outputs": [],
   "source": [
    "%%bash\n",
    "cat << EOF > manifests/debug-blob-pod.yaml\n",
    "apiVersion: v1\n",
    "kind: Pod\n",
    "metadata:\n",
    "  name: pvc-debugger\n",
    "  namespace: nim\n",
    "spec:\n",
    "  containers:\n",
    "  - name: debug\n",
    "    image: ubuntu\n",
    "    command: [\"/bin/bash\", \"-c\", \"--\"]\n",
    "    args: [\"while true; do sleep 30; done;\"]\n",
    "    volumeMounts:\n",
    "    - name: hf-volume\n",
    "      mountPath: /mnt/hf\n",
    "  volumes:\n",
    "  - name: hf-volume\n",
    "    persistentVolumeClaim:\n",
    "      claimName: hf-models-pvc\n",
    "  restartPolicy: Never\n",
    "EOF"
   ]
  },
  {
   "cell_type": "code",
   "execution_count": 10,
   "id": "b22a290b",
   "metadata": {},
   "outputs": [
    {
     "name": "stdout",
     "output_type": "stream",
     "text": [
      "pod/pvc-debugger created\n"
     ]
    }
   ],
   "source": [
    "!kubectl apply -f manifests/debug-blob-pod.yaml"
   ]
  },
  {
   "cell_type": "markdown",
   "id": "666cd0a6",
   "metadata": {},
   "source": [
    "once it’s running, exec into the pod:\n",
    "```\n",
    "kubectl exec -n nim -it pvc-debugger -- bash\n",
    "```\n",
    "Inside the pod, check the mounted path:\n",
    "```\n",
    "df -h /mnt/hf\n",
    "\n",
    "root@pvc-debugger:/# df -h /mnt/hf\n",
    "Filesystem                                                  Size  Used Avail Use% Mounted on\n",
    "//stgmodelweights.file.core.windows.net/huggingface-models  100T     0  100T   0% /mnt/hf\n",
    "\n",
    "ls -la /mnt/hf\n",
    "\n",
    "touch /mnt/hf/testfile\n",
    "```"
   ]
  },
  {
   "cell_type": "code",
   "execution_count": 38,
   "id": "90b40f99",
   "metadata": {},
   "outputs": [
    {
     "name": "stdout",
     "output_type": "stream",
     "text": [
      "\u001b[93mThe behavior of this command has been altered by the following extension: aks-preview\u001b[0m\n",
      "\u001b[K \\ Finished .."
     ]
    }
   ],
   "source": [
    "!az aks stop --resource-group $RESOURCE_GROUP --name $CLUSTER_NAME"
   ]
  },
  {
   "cell_type": "code",
   "execution_count": 39,
   "id": "cab09945",
   "metadata": {},
   "outputs": [
    {
     "name": "stdout",
     "output_type": "stream",
     "text": [
      "\u001b[93mThe behavior of this command has been altered by the following extension: aks-preview\u001b[0m\n",
      "\u001b[K - Finished .."
     ]
    }
   ],
   "source": [
    "!az aks start --resource-group $RESOURCE_GROUP --name $CLUSTER_NAME"
   ]
  },
  {
   "cell_type": "code",
   "execution_count": 41,
   "id": "388cdf46",
   "metadata": {},
   "outputs": [
    {
     "name": "stdout",
     "output_type": "stream",
     "text": [
      "No resources found in nim namespace.\n"
     ]
    }
   ],
   "source": [
    "!kubectl get pods -n nim    "
   ]
  },
  {
   "cell_type": "code",
   "execution_count": 43,
   "id": "95164758",
   "metadata": {},
   "outputs": [
    {
     "name": "stdout",
     "output_type": "stream",
     "text": [
      "pod/pvc-debugger created\n"
     ]
    }
   ],
   "source": [
    "!kubectl apply -f manifests/debug-blob-pod.yaml"
   ]
  },
  {
   "cell_type": "code",
   "execution_count": 44,
   "id": "3a7fa749",
   "metadata": {},
   "outputs": [
    {
     "name": "stderr",
     "output_type": "stream",
     "text": [
      "WARNING: Argument '--skip-gpu-driver-install' is in preview and under development. Reference and support levels: https://aka.ms/CLI_refstatus\n",
      "WARNING: The behavior of this command has been altered by the following extension: aks-preview\n",
      "WARNING: The new node pool will enable SSH access, recommended to use '--ssh-access disabled' option to disable SSH access for the node pool to make it more secure.\n"
     ]
    },
    {
     "name": "stdout",
     "output_type": "stream",
     "text": [
      "{\n",
      "  \"artifactStreamingProfile\": null,\n",
      "  \"availabilityZones\": null,\n",
      "  \"capacityReservationGroupId\": null,\n",
      "  \"count\": 1,\n",
      "  \"creationData\": null,\n",
      "  \"currentOrchestratorVersion\": \"1.31.7\",\n",
      "  \"eTag\": \"93ec221e-1f9e-4460-9f45-a4cbcf9a8b1c\",\n",
      "  \"enableAutoScaling\": false,\n",
      "  \"enableCustomCaTrust\": false,\n",
      "  \"enableEncryptionAtHost\": false,\n",
      "  \"enableFips\": false,\n",
      "  \"enableNodePublicIp\": false,\n",
      "  \"enableUltraSsd\": false,\n",
      "  \"gatewayProfile\": null,\n",
      "  \"gpuInstanceProfile\": null,\n",
      "  \"gpuProfile\": {\n",
      "    \"driverType\": \"\",\n",
      "    \"installGpuDriver\": false\n",
      "  },\n",
      "  \"hostGroupId\": null,\n",
      "  \"id\": \"/subscriptions/b7d41fc8-d35d-41db-92ed-1f7f1d32d4d9/resourcegroups/rg-aks-pvc/providers/Microsoft.ContainerService/managedClusters/akspvc/agentPools/gpupool\",\n",
      "  \"kubeletConfig\": null,\n",
      "  \"kubeletDiskType\": \"OS\",\n",
      "  \"linuxOsConfig\": null,\n",
      "  \"maxCount\": null,\n",
      "  \"maxPods\": 110,\n",
      "  \"messageOfTheDay\": null,\n",
      "  \"minCount\": null,\n",
      "  \"mode\": \"User\",\n",
      "  \"name\": \"gpupool\",\n",
      "  \"networkProfile\": {\n",
      "    \"allowedHostPorts\": null,\n",
      "    \"applicationSecurityGroups\": null,\n",
      "    \"nodePublicIpTags\": null\n",
      "  },\n",
      "  \"nodeImageVersion\": \"AKSUbuntu-2204gen2containerd-202504.06.0\",\n",
      "  \"nodeInitializationTaints\": null,\n",
      "  \"nodeLabels\": null,\n",
      "  \"nodePublicIpPrefixId\": null,\n",
      "  \"nodeTaints\": null,\n",
      "  \"orchestratorVersion\": \"1.31\",\n",
      "  \"osDiskSizeGb\": 2048,\n",
      "  \"osDiskType\": \"Managed\",\n",
      "  \"osSku\": \"Ubuntu\",\n",
      "  \"osType\": \"Linux\",\n",
      "  \"podIpAllocationMode\": null,\n",
      "  \"podSubnetId\": null,\n",
      "  \"powerState\": {\n",
      "    \"code\": \"Running\"\n",
      "  },\n",
      "  \"provisioningState\": \"Succeeded\",\n",
      "  \"proximityPlacementGroupId\": null,\n",
      "  \"resourceGroup\": \"rg-aks-pvc\",\n",
      "  \"scaleDownMode\": \"Delete\",\n",
      "  \"scaleSetEvictionPolicy\": null,\n",
      "  \"scaleSetPriority\": null,\n",
      "  \"securityProfile\": {\n",
      "    \"enableSecureBoot\": false,\n",
      "    \"enableVtpm\": false,\n",
      "    \"sshAccess\": \"LocalUser\"\n",
      "  },\n",
      "  \"spotMaxPrice\": null,\n",
      "  \"status\": null,\n",
      "  \"tags\": null,\n",
      "  \"type\": \"Microsoft.ContainerService/managedClusters/agentPools\",\n",
      "  \"typePropertiesType\": \"VirtualMachineScaleSets\",\n",
      "  \"upgradeSettings\": {\n",
      "    \"drainTimeoutInMinutes\": null,\n",
      "    \"maxBlockedNodes\": null,\n",
      "    \"maxSurge\": null,\n",
      "    \"maxUnavailable\": \"0\",\n",
      "    \"nodeSoakDurationInMinutes\": null,\n",
      "    \"undrainableNodeBehavior\": null\n",
      "  },\n",
      "  \"virtualMachineNodesStatus\": null,\n",
      "  \"virtualMachinesProfile\": null,\n",
      "  \"vmSize\": \"standard_nc24ads_a100_v4\",\n",
      "  \"vnetSubnetId\": null,\n",
      "  \"windowsProfile\": null,\n",
      "  \"workloadRuntime\": \"OCIContainer\"\n",
      "}\n"
     ]
    }
   ],
   "source": [
    "%%bash\n",
    "az aks nodepool add --resource-group $RESOURCE_GROUP --cluster-name $CLUSTER_NAME --name gpupool --node-count 1 --skip-gpu-driver-install --node-vm-size standard_nc24ads_a100_v4 --node-osdisk-size 2048 --max-pods 110"
   ]
  },
  {
   "cell_type": "markdown",
   "id": "a959e8e9-1b0c-4c8d-aaa9-7967212c4f1d",
   "metadata": {},
   "source": [
    "## Install NVIDIA GPU Operator\n",
    "\n",
    "The NVIDIA GPU Operator uses the operator framework within Kubernetes to automate the management of all NVIDIA software components needed to provision GPU. These components include the NVIDIA drivers (to enable CUDA), Kubernetes device plugin for GPUs, the NVIDIA Container Toolkit, automatic node labelling using GFD, DCGM based monitoring and others."
   ]
  },
  {
   "cell_type": "markdown",
   "id": "4cd777e5-4cfd-4cbb-bf14-9e3d5114d482",
   "metadata": {},
   "source": [
    "### Add NVIDIA Helm Repository"
   ]
  },
  {
   "cell_type": "code",
   "execution_count": 45,
   "id": "7463c36a-9d3e-4bb0-8210-bab20433d777",
   "metadata": {},
   "outputs": [
    {
     "name": "stdout",
     "output_type": "stream",
     "text": [
      "\"nvidia\" already exists with the same configuration, skipping\n",
      "Hang tight while we grab the latest from your chart repositories...\n",
      "...Successfully got an update from the \"nvdp\" chart repository\n",
      "...Successfully got an update from the \"nvgfd\" chart repository\n",
      "...Successfully got an update from the \"milvus\" chart repository\n",
      "...Successfully got an update from the \"nvidia\" chart repository\n",
      "Update Complete. ⎈Happy Helming!���\n"
     ]
    }
   ],
   "source": [
    "%%bash\n",
    "# add nvidia helm repo\n",
    "helm repo add nvidia https://helm.ngc.nvidia.com/nvidia --pass-credentials && helm repo update\n"
   ]
  },
  {
   "cell_type": "markdown",
   "id": "a707f030-ce8d-4653-948f-e3d86b1809c9",
   "metadata": {},
   "source": [
    "### Install NVIDIA GPU Operator\n",
    "\n",
    "With the helm repo added, we can install the NVIDIA GPU Operator. The configurations below are geared towards installing the operator in a scenario where drivers are installed on the node pools machines and will not be managed by the operator. In scenarios where the drivers are managed by the operator, please disreagrd the `--set` command fields."
   ]
  },
  {
   "cell_type": "code",
   "execution_count": 46,
   "id": "09dd9e58-2e9c-4736-b675-8faba275e4da",
   "metadata": {},
   "outputs": [
    {
     "name": "stdout",
     "output_type": "stream",
     "text": [
      "W0502 14:28:57.656993   37560 warnings.go:70] spec.template.spec.affinity.nodeAffinity.preferredDuringSchedulingIgnoredDuringExecution[0].preference.matchExpressions[0].key: node-role.kubernetes.io/master is use \"node-role.kubernetes.io/control-plane\" instead\n",
      "W0502 14:28:57.674678   37560 warnings.go:70] spec.template.spec.affinity.nodeAffinity.preferredDuringSchedulingIgnoredDuringExecution[0].preference.matchExpressions[0].key: node-role.kubernetes.io/master is use \"node-role.kubernetes.io/control-plane\" instead\n",
      "NAME: gpu-operator-1746210529\n",
      "LAST DEPLOYED: Fri May  2 14:28:53 2025\n",
      "NAMESPACE: gpu-operator\n",
      "STATUS: deployed\n",
      "REVISION: 1\n",
      "TEST SUITE: None\n"
     ]
    }
   ],
   "source": [
    "!helm install --create-namespace --namespace gpu-operator nvidia/gpu-operator --wait --generate-name\n"
   ]
  },
  {
   "cell_type": "markdown",
   "id": "01185511-7761-4962-8186-1db498256091",
   "metadata": {},
   "source": [
    "### Verify Installation"
   ]
  },
  {
   "cell_type": "code",
   "execution_count": 47,
   "id": "a2c302d9-e7dd-40d2-a35c-ab25cef9bd71",
   "metadata": {},
   "outputs": [
    {
     "name": "stdout",
     "output_type": "stream",
     "text": [
      "NAME                                                              READY   STATUS        RESTARTS   AGE\n",
      "gpu-feature-discovery-crwq6                                       0/1     Terminating   0          10s\n",
      "gpu-operator-1746210529-node-feature-discovery-gc-6fb49447thx28   1/1     Running       0          24s\n",
      "gpu-operator-1746210529-node-feature-discovery-master-686cdnrgk   1/1     Running       0          24s\n",
      "gpu-operator-1746210529-node-feature-discovery-worker-2q7xb       1/1     Running       0          24s\n",
      "gpu-operator-1746210529-node-feature-discovery-worker-dghg7       1/1     Running       0          24s\n",
      "gpu-operator-5bcb97589d-sbt5p                                     1/1     Running       0          24s\n",
      "nvidia-container-toolkit-daemonset-d6tk2                          0/1     Terminating   0          11s\n",
      "nvidia-dcgm-exporter-f5xj4                                        0/1     Terminating   0          10s\n",
      "nvidia-device-plugin-daemonset-vflr5                              0/1     Terminating   0          11s\n",
      "nvidia-driver-daemonset-ctcz5                                     0/1     Init:0/1      0          12s\n",
      "nvidia-operator-validator-2gxq9                                   0/1     Terminating   0          11s\n"
     ]
    }
   ],
   "source": [
    "!kubectl get pods -n gpu-operator"
   ]
  },
  {
   "cell_type": "code",
   "execution_count": 4,
   "id": "586d65a7",
   "metadata": {},
   "outputs": [
    {
     "name": "stdout",
     "output_type": "stream",
     "text": [
      "Name:               aks-gpupool-75697254-vmss000000\n",
      "Roles:              <none>\n",
      "Labels:             accelerator=nvidia\n",
      "                    agentpool=gpupool\n",
      "                    beta.kubernetes.io/arch=amd64\n",
      "                    beta.kubernetes.io/instance-type=standard_nc24ads_a100_v4\n",
      "                    beta.kubernetes.io/os=linux\n",
      "                    failure-domain.beta.kubernetes.io/region=westeurope\n",
      "                    failure-domain.beta.kubernetes.io/zone=0\n",
      "                    feature.node.kubernetes.io/cpu-cpuid.ADX=true\n",
      "                    feature.node.kubernetes.io/cpu-cpuid.AESNI=true\n",
      "                    feature.node.kubernetes.io/cpu-cpuid.AVX=true\n",
      "                    feature.node.kubernetes.io/cpu-cpuid.AVX2=true\n",
      "                    feature.node.kubernetes.io/cpu-cpuid.CETSS=true\n",
      "                    feature.node.kubernetes.io/cpu-cpuid.CLZERO=true\n",
      "                    feature.node.kubernetes.io/cpu-cpuid.CMPXCHG8=true\n",
      "                    feature.node.kubernetes.io/cpu-cpuid.FMA3=true\n",
      "                    feature.node.kubernetes.io/cpu-cpuid.FSRM=true\n",
      "                    feature.node.kubernetes.io/cpu-cpuid.FXSR=true\n",
      "                    feature.node.kubernetes.io/cpu-cpuid.FXSROPT=true\n",
      "                    feature.node.kubernetes.io/cpu-cpuid.HYPERVISOR=true\n",
      "                    feature.node.kubernetes.io/cpu-cpuid.LAHF=true\n",
      "                    feature.node.kubernetes.io/cpu-cpuid.MOVBE=true\n",
      "                    feature.node.kubernetes.io/cpu-cpuid.MOVU=true\n",
      "                    feature.node.kubernetes.io/cpu-cpuid.OSXSAVE=true\n",
      "                    feature.node.kubernetes.io/cpu-cpuid.PSFD=true\n",
      "                    feature.node.kubernetes.io/cpu-cpuid.RDPRU=true\n",
      "                    feature.node.kubernetes.io/cpu-cpuid.SHA=true\n",
      "                    feature.node.kubernetes.io/cpu-cpuid.SSE4A=true\n",
      "                    feature.node.kubernetes.io/cpu-cpuid.SYSCALL=true\n",
      "                    feature.node.kubernetes.io/cpu-cpuid.SYSEE=true\n",
      "                    feature.node.kubernetes.io/cpu-cpuid.TOPEXT=true\n",
      "                    feature.node.kubernetes.io/cpu-cpuid.VAES=true\n",
      "                    feature.node.kubernetes.io/cpu-cpuid.VPCLMULQDQ=true\n",
      "                    feature.node.kubernetes.io/cpu-cpuid.X87=true\n",
      "                    feature.node.kubernetes.io/cpu-cpuid.XGETBV1=true\n",
      "                    feature.node.kubernetes.io/cpu-cpuid.XSAVE=true\n",
      "                    feature.node.kubernetes.io/cpu-cpuid.XSAVEC=true\n",
      "                    feature.node.kubernetes.io/cpu-cpuid.XSAVEOPT=true\n",
      "                    feature.node.kubernetes.io/cpu-cpuid.XSAVES=true\n",
      "                    feature.node.kubernetes.io/cpu-hardware_multithreading=false\n",
      "                    feature.node.kubernetes.io/cpu-model.family=25\n",
      "                    feature.node.kubernetes.io/cpu-model.id=1\n",
      "                    feature.node.kubernetes.io/cpu-model.vendor_id=AMD\n",
      "                    feature.node.kubernetes.io/kernel-config.NO_HZ=true\n",
      "                    feature.node.kubernetes.io/kernel-config.NO_HZ_FULL=true\n",
      "                    feature.node.kubernetes.io/kernel-version.full=5.15.0-1086-azure\n",
      "                    feature.node.kubernetes.io/kernel-version.major=5\n",
      "                    feature.node.kubernetes.io/kernel-version.minor=15\n",
      "                    feature.node.kubernetes.io/kernel-version.revision=0\n",
      "                    feature.node.kubernetes.io/pci-10de.present=true\n",
      "                    feature.node.kubernetes.io/pci-15b3.present=true\n",
      "                    feature.node.kubernetes.io/rdma.capable=true\n",
      "                    feature.node.kubernetes.io/storage-nonrotationaldisk=true\n",
      "                    feature.node.kubernetes.io/system-os_release.ID=ubuntu\n",
      "                    feature.node.kubernetes.io/system-os_release.VERSION_ID=22.04\n",
      "                    feature.node.kubernetes.io/system-os_release.VERSION_ID.major=22\n",
      "                    feature.node.kubernetes.io/system-os_release.VERSION_ID.minor=04\n",
      "                    kubernetes.azure.com/accelerator=nvidia\n",
      "                    kubernetes.azure.com/agentpool=gpupool\n",
      "                    kubernetes.azure.com/azure-cni-overlay=true\n",
      "                    kubernetes.azure.com/cluster=MC_rg-aks-pvc_akspvc_westeurope\n",
      "                    kubernetes.azure.com/consolidated-additional-properties=b9de2e98-288f-11f0-845f-8285fd0f8384\n",
      "                    kubernetes.azure.com/kubelet-identity-client-id=b592ba18-86bf-4d62-ac96-683d5f203d5a\n",
      "                    kubernetes.azure.com/mode=user\n",
      "                    kubernetes.azure.com/network-name=aks-vnet-18521327\n",
      "                    kubernetes.azure.com/network-policy=none\n",
      "                    kubernetes.azure.com/network-resourcegroup=rg-aks-pvc\n",
      "                    kubernetes.azure.com/network-subnet=aks-subnet\n",
      "                    kubernetes.azure.com/network-subscription=b7d41fc8-d35d-41db-92ed-1f7f1d32d4d9\n",
      "                    kubernetes.azure.com/node-image-version=AKSUbuntu-2204gen2containerd-202504.16.0\n",
      "                    kubernetes.azure.com/nodenetwork-vnetguid=f40de5e7-e445-4980-a564-9615b1067a51\n",
      "                    kubernetes.azure.com/nodepool-type=VirtualMachineScaleSets\n",
      "                    kubernetes.azure.com/os-sku=Ubuntu\n",
      "                    kubernetes.azure.com/podnetwork-type=overlay\n",
      "                    kubernetes.azure.com/role=agent\n",
      "                    kubernetes.azure.com/storageprofile=managed\n",
      "                    kubernetes.azure.com/storagetier=Premium_LRS\n",
      "                    kubernetes.io/arch=amd64\n",
      "                    kubernetes.io/hostname=aks-gpupool-75697254-vmss000000\n",
      "                    kubernetes.io/os=linux\n",
      "                    node.kubernetes.io/instance-type=standard_nc24ads_a100_v4\n",
      "                    nvidia.com/cuda.driver-version.full=570.124.06\n",
      "                    nvidia.com/cuda.driver-version.major=570\n",
      "                    nvidia.com/cuda.driver-version.minor=124\n",
      "                    nvidia.com/cuda.driver-version.revision=06\n",
      "                    nvidia.com/cuda.driver.major=570\n",
      "                    nvidia.com/cuda.driver.minor=124\n",
      "                    nvidia.com/cuda.driver.rev=06\n",
      "                    nvidia.com/cuda.runtime-version.full=12.8\n",
      "                    nvidia.com/cuda.runtime-version.major=12\n",
      "                    nvidia.com/cuda.runtime-version.minor=8\n",
      "                    nvidia.com/cuda.runtime.major=12\n",
      "                    nvidia.com/cuda.runtime.minor=8\n",
      "                    nvidia.com/gfd.timestamp=1746326428\n",
      "                    nvidia.com/gpu-driver-upgrade-state=upgrade-done\n",
      "                    nvidia.com/gpu.compute.major=8\n",
      "                    nvidia.com/gpu.compute.minor=0\n",
      "                    nvidia.com/gpu.count=1\n",
      "                    nvidia.com/gpu.deploy.container-toolkit=true\n",
      "                    nvidia.com/gpu.deploy.dcgm=true\n",
      "                    nvidia.com/gpu.deploy.dcgm-exporter=true\n",
      "                    nvidia.com/gpu.deploy.device-plugin=true\n",
      "                    nvidia.com/gpu.deploy.driver=true\n",
      "                    nvidia.com/gpu.deploy.gpu-feature-discovery=true\n",
      "                    nvidia.com/gpu.deploy.mig-manager=true\n",
      "                    nvidia.com/gpu.deploy.node-status-exporter=true\n",
      "                    nvidia.com/gpu.deploy.nvsm=\n",
      "                    nvidia.com/gpu.deploy.operator-validator=true\n",
      "                    nvidia.com/gpu.family=ampere\n",
      "                    nvidia.com/gpu.machine=Virtual-Machine\n",
      "                    nvidia.com/gpu.memory=81920\n",
      "                    nvidia.com/gpu.mode=compute\n",
      "                    nvidia.com/gpu.present=true\n",
      "                    nvidia.com/gpu.product=NVIDIA-A100-80GB-PCIe\n",
      "                    nvidia.com/gpu.replicas=1\n",
      "                    nvidia.com/gpu.sharing-strategy=none\n",
      "                    nvidia.com/mig.capable=true\n",
      "                    nvidia.com/mig.config=all-disabled\n",
      "                    nvidia.com/mig.config.state=success\n",
      "                    nvidia.com/mig.strategy=single\n",
      "                    nvidia.com/mps.capable=false\n",
      "                    nvidia.com/vgpu.present=false\n",
      "                    storageprofile=managed\n",
      "                    storagetier=Premium_LRS\n",
      "                    topology.disk.csi.azure.com/zone=\n",
      "                    topology.kubernetes.io/region=westeurope\n",
      "                    topology.kubernetes.io/zone=0\n",
      "Annotations:        alpha.kubernetes.io/provided-node-ip: 10.224.0.5\n",
      "                    csi.volume.kubernetes.io/nodeid:\n",
      "                      {\"disk.csi.azure.com\":\"aks-gpupool-75697254-vmss000000\",\"file.csi.azure.com\":\"aks-gpupool-75697254-vmss000000\"}\n",
      "                    nfd.node.kubernetes.io/feature-labels:\n",
      "                      cpu-cpuid.ADX,cpu-cpuid.AESNI,cpu-cpuid.AVX,cpu-cpuid.AVX2,cpu-cpuid.CETSS,cpu-cpuid.CLZERO,cpu-cpuid.CMPXCHG8,cpu-cpuid.FMA3,cpu-cpuid.FS...\n",
      "                    node.alpha.kubernetes.io/ttl: 0\n",
      "                    nvidia.com/gpu-driver-upgrade-enabled: true\n",
      "                    volumes.kubernetes.io/controller-managed-attach-detach: true\n",
      "CreationTimestamp:  Sat, 03 May 2025 22:36:47 -0400\n",
      "Taints:             <none>\n",
      "Unschedulable:      false\n",
      "Lease:\n",
      "  HolderIdentity:  aks-gpupool-75697254-vmss000000\n",
      "  AcquireTime:     <unset>\n",
      "  RenewTime:       Mon, 05 May 2025 09:21:19 -0400\n",
      "Conditions:\n",
      "  Type                          Status  LastHeartbeatTime                 LastTransitionTime                Reason                          Message\n",
      "  ----                          ------  -----------------                 ------------------                ------                          -------\n",
      "  ContainerRuntimeProblem       False   Mon, 05 May 2025 09:21:03 -0400   Sat, 03 May 2025 22:36:57 -0400   ContainerRuntimeIsUp            container runtime service is up\n",
      "  KernelDeadlock                False   Mon, 05 May 2025 09:21:03 -0400   Sat, 03 May 2025 22:36:57 -0400   KernelHasNoDeadlock             kernel has no deadlock\n",
      "  ReadonlyFilesystem            False   Mon, 05 May 2025 09:21:03 -0400   Sat, 03 May 2025 22:36:57 -0400   FilesystemIsNotReadOnly         Filesystem is not read-only\n",
      "  FrequentUnregisterNetDevice   False   Mon, 05 May 2025 09:21:03 -0400   Sat, 03 May 2025 22:36:57 -0400   NoFrequentUnregisterNetDevice   node is functioning properly\n",
      "  FrequentDockerRestart         False   Mon, 05 May 2025 09:21:03 -0400   Sat, 03 May 2025 22:36:57 -0400   NoFrequentDockerRestart         docker is functioning properly\n",
      "  FrequentContainerdRestart     False   Mon, 05 May 2025 09:21:03 -0400   Sat, 03 May 2025 22:36:57 -0400   NoFrequentContainerdRestart     containerd is functioning properly\n",
      "  KubeletProblem                False   Mon, 05 May 2025 09:21:03 -0400   Sat, 03 May 2025 22:36:57 -0400   KubeletIsUp                     kubelet service is up\n",
      "  FrequentKubeletRestart        False   Mon, 05 May 2025 09:21:03 -0400   Sat, 03 May 2025 22:36:57 -0400   NoFrequentKubeletRestart        kubelet is functioning properly\n",
      "  FilesystemCorruptionProblem   False   Mon, 05 May 2025 09:21:03 -0400   Sat, 03 May 2025 22:36:57 -0400   FilesystemIsOK                  Filesystem is healthy\n",
      "  VMEventScheduled              False   Mon, 05 May 2025 09:21:03 -0400   Sat, 03 May 2025 22:36:57 -0400   NoVMEventScheduled              VM has no scheduled event\n",
      "  MemoryPressure                False   Mon, 05 May 2025 09:17:36 -0400   Sat, 03 May 2025 22:36:47 -0400   KubeletHasSufficientMemory      kubelet has sufficient memory available\n",
      "  DiskPressure                  False   Mon, 05 May 2025 09:17:36 -0400   Sat, 03 May 2025 22:36:47 -0400   KubeletHasNoDiskPressure        kubelet has no disk pressure\n",
      "  PIDPressure                   False   Mon, 05 May 2025 09:17:36 -0400   Sat, 03 May 2025 22:36:47 -0400   KubeletHasSufficientPID         kubelet has sufficient PID available\n",
      "  Ready                         True    Mon, 05 May 2025 09:17:36 -0400   Sat, 03 May 2025 22:37:02 -0400   KubeletReady                    kubelet is posting ready status\n",
      "Addresses:\n",
      "  InternalIP:  10.224.0.5\n",
      "  Hostname:    aks-gpupool-75697254-vmss000000\n",
      "Capacity:\n",
      "  cpu:                24\n",
      "  ephemeral-storage:  2081092508Ki\n",
      "  hugepages-1Gi:      0\n",
      "  hugepages-2Mi:      0\n",
      "  memory:             226764736Ki\n",
      "  nvidia.com/gpu:     1\n",
      "  pods:               110\n",
      "Allocatable:\n",
      "  cpu:                23660m\n",
      "  ephemeral-storage:  1917934852198\n",
      "  hugepages-1Gi:      0\n",
      "  hugepages-2Mi:      0\n",
      "  memory:             224358336Ki\n",
      "  nvidia.com/gpu:     1\n",
      "  pods:               110\n",
      "System Info:\n",
      "  Machine ID:                 f63b08eeadbe4436b9367cd110c443f8\n",
      "  System UUID:                301f4955-c54f-48fc-acf7-94829c0cdf89\n",
      "  Boot ID:                    0a989297-3d81-43ad-8eeb-31fd980a54b7\n",
      "  Kernel Version:             5.15.0-1086-azure\n",
      "  OS Image:                   Ubuntu 22.04.5 LTS\n",
      "  Operating System:           linux\n",
      "  Architecture:               amd64\n",
      "  Container Runtime Version:  containerd://1.7.27-1\n",
      "  Kubelet Version:            v1.31.7\n",
      "  Kube-Proxy Version:         v1.31.7\n",
      "ProviderID:                   azure:///subscriptions/b7d41fc8-d35d-41db-92ed-1f7f1d32d4d9/resourceGroups/mc_rg-aks-pvc_akspvc_westeurope/providers/Microsoft.Compute/virtualMachineScaleSets/aks-gpupool-75697254-vmss/virtualMachines/0\n",
      "Non-terminated Pods:          (14 in total)\n",
      "  Namespace                   Name                                                           CPU Requests  CPU Limits  Memory Requests  Memory Limits  Age\n",
      "  ---------                   ----                                                           ------------  ----------  ---------------  -------------  ---\n",
      "  gpu-operator                gpu-feature-discovery-bsddk                                    0 (0%)        0 (0%)      0 (0%)           0 (0%)         34h\n",
      "  gpu-operator                gpu-operator-1746210529-node-feature-discovery-worker-nhhx7    5m (0%)       0 (0%)      64Mi (0%)        512Mi (0%)     34h\n",
      "  gpu-operator                nvidia-container-toolkit-daemonset-rntc4                       0 (0%)        0 (0%)      0 (0%)           0 (0%)         34h\n",
      "  gpu-operator                nvidia-dcgm-exporter-fzckh                                     0 (0%)        0 (0%)      0 (0%)           0 (0%)         34h\n",
      "  gpu-operator                nvidia-device-plugin-daemonset-szs6w                           0 (0%)        0 (0%)      0 (0%)           0 (0%)         34h\n",
      "  gpu-operator                nvidia-driver-daemonset-k52f5                                  0 (0%)        0 (0%)      0 (0%)           0 (0%)         34h\n",
      "  gpu-operator                nvidia-mig-manager-x7kvt                                       0 (0%)        0 (0%)      0 (0%)           0 (0%)         34h\n",
      "  gpu-operator                nvidia-operator-validator-6gdsk                                0 (0%)        0 (0%)      0 (0%)           0 (0%)         34h\n",
      "  kube-system                 azure-cns-96kl5                                                40m (0%)      40m (0%)    250Mi (0%)       250Mi (0%)     34h\n",
      "  kube-system                 azure-ip-masq-agent-66rpp                                      100m (0%)     500m (2%)   50Mi (0%)        250Mi (0%)     34h\n",
      "  kube-system                 cloud-node-manager-59tsf                                       50m (0%)      0 (0%)      50Mi (0%)        512Mi (0%)     34h\n",
      "  kube-system                 csi-azuredisk-node-97bgp                                       30m (0%)      0 (0%)      60Mi (0%)        2800Mi (1%)    34h\n",
      "  kube-system                 csi-azurefile-node-rvhr5                                       30m (0%)      0 (0%)      60Mi (0%)        600Mi (0%)     34h\n",
      "  kube-system                 kube-proxy-9nklr                                               100m (0%)     0 (0%)      0 (0%)           0 (0%)         34h\n",
      "Allocated resources:\n",
      "  (Total limits may be over 100 percent, i.e., overcommitted.)\n",
      "  Resource           Requests    Limits\n",
      "  --------           --------    ------\n",
      "  cpu                355m (1%)   540m (2%)\n",
      "  memory             534Mi (0%)  4924Mi (2%)\n",
      "  ephemeral-storage  0 (0%)      0 (0%)\n",
      "  hugepages-1Gi      0 (0%)      0 (0%)\n",
      "  hugepages-2Mi      0 (0%)      0 (0%)\n",
      "  nvidia.com/gpu     0           0\n",
      "Events:              <none>\n",
      "\n",
      "\n",
      "Name:               aks-nodepool1-13199758-vmss000002\n",
      "Roles:              <none>\n",
      "Labels:             agentpool=nodepool1\n",
      "                    beta.kubernetes.io/arch=amd64\n",
      "                    beta.kubernetes.io/instance-type=Standard_D4s_v3\n",
      "                    beta.kubernetes.io/os=linux\n",
      "                    failure-domain.beta.kubernetes.io/region=westeurope\n",
      "                    failure-domain.beta.kubernetes.io/zone=westeurope-2\n",
      "                    feature.node.kubernetes.io/cpu-cpuid.ADX=true\n",
      "                    feature.node.kubernetes.io/cpu-cpuid.AESNI=true\n",
      "                    feature.node.kubernetes.io/cpu-cpuid.AVX=true\n",
      "                    feature.node.kubernetes.io/cpu-cpuid.AVX2=true\n",
      "                    feature.node.kubernetes.io/cpu-cpuid.CMPXCHG8=true\n",
      "                    feature.node.kubernetes.io/cpu-cpuid.FMA3=true\n",
      "                    feature.node.kubernetes.io/cpu-cpuid.FXSR=true\n",
      "                    feature.node.kubernetes.io/cpu-cpuid.FXSROPT=true\n",
      "                    feature.node.kubernetes.io/cpu-cpuid.HLE=true\n",
      "                    feature.node.kubernetes.io/cpu-cpuid.HYPERVISOR=true\n",
      "                    feature.node.kubernetes.io/cpu-cpuid.LAHF=true\n",
      "                    feature.node.kubernetes.io/cpu-cpuid.MD_CLEAR=true\n",
      "                    feature.node.kubernetes.io/cpu-cpuid.MOVBE=true\n",
      "                    feature.node.kubernetes.io/cpu-cpuid.OSXSAVE=true\n",
      "                    feature.node.kubernetes.io/cpu-cpuid.RTM=true\n",
      "                    feature.node.kubernetes.io/cpu-cpuid.SYSCALL=true\n",
      "                    feature.node.kubernetes.io/cpu-cpuid.SYSEE=true\n",
      "                    feature.node.kubernetes.io/cpu-cpuid.VMX=true\n",
      "                    feature.node.kubernetes.io/cpu-cpuid.X87=true\n",
      "                    feature.node.kubernetes.io/cpu-cpuid.XSAVE=true\n",
      "                    feature.node.kubernetes.io/cpu-cpuid.XSAVEOPT=true\n",
      "                    feature.node.kubernetes.io/cpu-hardware_multithreading=true\n",
      "                    feature.node.kubernetes.io/cpu-model.family=6\n",
      "                    feature.node.kubernetes.io/cpu-model.id=79\n",
      "                    feature.node.kubernetes.io/cpu-model.vendor_id=Intel\n",
      "                    feature.node.kubernetes.io/kernel-config.NO_HZ=true\n",
      "                    feature.node.kubernetes.io/kernel-config.NO_HZ_FULL=true\n",
      "                    feature.node.kubernetes.io/kernel-version.full=5.15.0-1086-azure\n",
      "                    feature.node.kubernetes.io/kernel-version.major=5\n",
      "                    feature.node.kubernetes.io/kernel-version.minor=15\n",
      "                    feature.node.kubernetes.io/kernel-version.revision=0\n",
      "                    feature.node.kubernetes.io/pci-15b3.present=true\n",
      "                    feature.node.kubernetes.io/rdma.capable=true\n",
      "                    feature.node.kubernetes.io/system-os_release.ID=ubuntu\n",
      "                    feature.node.kubernetes.io/system-os_release.VERSION_ID=22.04\n",
      "                    feature.node.kubernetes.io/system-os_release.VERSION_ID.major=22\n",
      "                    feature.node.kubernetes.io/system-os_release.VERSION_ID.minor=04\n",
      "                    kubernetes.azure.com/agentpool=nodepool1\n",
      "                    kubernetes.azure.com/azure-cni-overlay=true\n",
      "                    kubernetes.azure.com/cluster=MC_rg-aks-pvc_akspvc_westeurope\n",
      "                    kubernetes.azure.com/consolidated-additional-properties=60c746f2-287b-11f0-827b-86912b000f9c\n",
      "                    kubernetes.azure.com/kubelet-identity-client-id=b592ba18-86bf-4d62-ac96-683d5f203d5a\n",
      "                    kubernetes.azure.com/mode=system\n",
      "                    kubernetes.azure.com/network-name=aks-vnet-18521327\n",
      "                    kubernetes.azure.com/network-policy=none\n",
      "                    kubernetes.azure.com/network-resourcegroup=rg-aks-pvc\n",
      "                    kubernetes.azure.com/network-subnet=aks-subnet\n",
      "                    kubernetes.azure.com/network-subscription=b7d41fc8-d35d-41db-92ed-1f7f1d32d4d9\n",
      "                    kubernetes.azure.com/node-image-version=AKSUbuntu-2204gen2containerd-202504.16.0\n",
      "                    kubernetes.azure.com/nodenetwork-vnetguid=f40de5e7-e445-4980-a564-9615b1067a51\n",
      "                    kubernetes.azure.com/nodepool-type=VirtualMachineScaleSets\n",
      "                    kubernetes.azure.com/os-sku=Ubuntu\n",
      "                    kubernetes.azure.com/podnetwork-type=overlay\n",
      "                    kubernetes.azure.com/role=agent\n",
      "                    kubernetes.azure.com/storageprofile=managed\n",
      "                    kubernetes.azure.com/storagetier=Premium_LRS\n",
      "                    kubernetes.io/arch=amd64\n",
      "                    kubernetes.io/hostname=aks-nodepool1-13199758-vmss000002\n",
      "                    kubernetes.io/os=linux\n",
      "                    node.kubernetes.io/instance-type=Standard_D4s_v3\n",
      "                    storageprofile=managed\n",
      "                    storagetier=Premium_LRS\n",
      "                    topology.disk.csi.azure.com/zone=westeurope-2\n",
      "                    topology.kubernetes.io/region=westeurope\n",
      "                    topology.kubernetes.io/zone=westeurope-2\n",
      "Annotations:        alpha.kubernetes.io/provided-node-ip: 10.224.0.6\n",
      "                    csi.volume.kubernetes.io/nodeid:\n",
      "                      {\"disk.csi.azure.com\":\"aks-nodepool1-13199758-vmss000002\",\"file.csi.azure.com\":\"aks-nodepool1-13199758-vmss000002\"}\n",
      "                    nfd.node.kubernetes.io/feature-labels:\n",
      "                      cpu-cpuid.ADX,cpu-cpuid.AESNI,cpu-cpuid.AVX,cpu-cpuid.AVX2,cpu-cpuid.CMPXCHG8,cpu-cpuid.FMA3,cpu-cpuid.FXSR,cpu-cpuid.FXSROPT,cpu-cpuid.HL...\n",
      "                    node.alpha.kubernetes.io/ttl: 0\n",
      "                    volumes.kubernetes.io/controller-managed-attach-detach: true\n",
      "CreationTimestamp:  Sat, 03 May 2025 20:06:44 -0400\n",
      "Taints:             <none>\n",
      "Unschedulable:      false\n",
      "Lease:\n",
      "  HolderIdentity:  aks-nodepool1-13199758-vmss000002\n",
      "  AcquireTime:     <unset>\n",
      "  RenewTime:       Mon, 05 May 2025 09:21:19 -0400\n",
      "Conditions:\n",
      "  Type                          Status  LastHeartbeatTime                 LastTransitionTime                Reason                          Message\n",
      "  ----                          ------  -----------------                 ------------------                ------                          -------\n",
      "  ReadonlyFilesystem            False   Mon, 05 May 2025 09:20:57 -0400   Sat, 03 May 2025 20:06:45 -0400   FilesystemIsNotReadOnly         Filesystem is not read-only\n",
      "  ContainerRuntimeProblem       False   Mon, 05 May 2025 09:20:57 -0400   Sat, 03 May 2025 20:06:45 -0400   ContainerRuntimeIsUp            container runtime service is up\n",
      "  FrequentContainerdRestart     False   Mon, 05 May 2025 09:20:57 -0400   Sat, 03 May 2025 20:06:46 -0400   NoFrequentContainerdRestart     containerd is functioning properly\n",
      "  FrequentUnregisterNetDevice   False   Mon, 05 May 2025 09:20:57 -0400   Sat, 03 May 2025 20:06:46 -0400   NoFrequentUnregisterNetDevice   node is functioning properly\n",
      "  FrequentDockerRestart         False   Mon, 05 May 2025 09:20:57 -0400   Sat, 03 May 2025 20:06:46 -0400   NoFrequentDockerRestart         docker is functioning properly\n",
      "  VMEventScheduled              False   Mon, 05 May 2025 09:20:57 -0400   Sat, 03 May 2025 20:06:46 -0400   NoVMEventScheduled              VM has no scheduled event\n",
      "  FrequentKubeletRestart        False   Mon, 05 May 2025 09:20:57 -0400   Sat, 03 May 2025 20:06:46 -0400   NoFrequentKubeletRestart        kubelet is functioning properly\n",
      "  FilesystemCorruptionProblem   False   Mon, 05 May 2025 09:20:57 -0400   Sat, 03 May 2025 20:06:46 -0400   FilesystemIsOK                  Filesystem is healthy\n",
      "  KubeletProblem                False   Mon, 05 May 2025 09:20:57 -0400   Sat, 03 May 2025 20:06:46 -0400   KubeletIsUp                     kubelet service is up\n",
      "  KernelDeadlock                False   Mon, 05 May 2025 09:20:57 -0400   Sat, 03 May 2025 20:06:45 -0400   KernelHasNoDeadlock             kernel has no deadlock\n",
      "  MemoryPressure                False   Mon, 05 May 2025 09:19:39 -0400   Sat, 03 May 2025 20:06:44 -0400   KubeletHasSufficientMemory      kubelet has sufficient memory available\n",
      "  DiskPressure                  False   Mon, 05 May 2025 09:19:39 -0400   Sat, 03 May 2025 20:06:44 -0400   KubeletHasNoDiskPressure        kubelet has no disk pressure\n",
      "  PIDPressure                   False   Mon, 05 May 2025 09:19:39 -0400   Sat, 03 May 2025 20:06:44 -0400   KubeletHasSufficientPID         kubelet has sufficient PID available\n",
      "  Ready                         True    Mon, 05 May 2025 09:19:39 -0400   Sat, 03 May 2025 20:07:01 -0400   KubeletReady                    kubelet is posting ready status\n",
      "Addresses:\n",
      "  Hostname:    aks-nodepool1-13199758-vmss000002\n",
      "  InternalIP:  10.224.0.6\n",
      "  ExternalIP:  4.245.0.183\n",
      "Capacity:\n",
      "  cpu:                4\n",
      "  ephemeral-storage:  129886128Ki\n",
      "  hugepages-1Gi:      0\n",
      "  hugepages-2Mi:      0\n",
      "  memory:             16374772Ki\n",
      "  pods:               250\n",
      "Allocatable:\n",
      "  cpu:                3860m\n",
      "  ephemeral-storage:  119703055367\n",
      "  hugepages-1Gi:      0\n",
      "  hugepages-2Mi:      0\n",
      "  memory:             12078068Ki\n",
      "  pods:               250\n",
      "System Info:\n",
      "  Machine ID:                 bfdc3ee34f504a8682b1b7cf3ea26d29\n",
      "  System UUID:                01d0afbf-e720-4725-a2bd-76abf00d9e9d\n",
      "  Boot ID:                    be028b86-be83-4e91-87dd-ed6e8f0484ad\n",
      "  Kernel Version:             5.15.0-1086-azure\n",
      "  OS Image:                   Ubuntu 22.04.5 LTS\n",
      "  Operating System:           linux\n",
      "  Architecture:               amd64\n",
      "  Container Runtime Version:  containerd://1.7.27-1\n",
      "  Kubelet Version:            v1.31.7\n",
      "  Kube-Proxy Version:         v1.31.7\n",
      "ProviderID:                   azure:///subscriptions/b7d41fc8-d35d-41db-92ed-1f7f1d32d4d9/resourceGroups/mc_rg-aks-pvc_akspvc_westeurope/providers/Microsoft.Compute/virtualMachineScaleSets/aks-nodepool1-13199758-vmss/virtualMachines/2\n",
      "Non-terminated Pods:          (18 in total)\n",
      "  Namespace                   Name                                                               CPU Requests  CPU Limits  Memory Requests  Memory Limits  Age\n",
      "  ---------                   ----                                                               ------------  ----------  ---------------  -------------  ---\n",
      "  gpu-operator                gpu-operator-1746210529-node-feature-discovery-gc-6fb49447x25h5    10m (0%)      0 (0%)      128Mi (1%)       1Gi (8%)       34h\n",
      "  gpu-operator                gpu-operator-1746210529-node-feature-discovery-master-686cn6c9l    100m (2%)     0 (0%)      128Mi (1%)       4Gi (34%)      34h\n",
      "  gpu-operator                gpu-operator-1746210529-node-feature-discovery-worker-v72xf        5m (0%)       0 (0%)      64Mi (0%)        512Mi (4%)     37h\n",
      "  gpu-operator                gpu-operator-5bcb97589d-fswvf                                      200m (5%)     500m (12%)  100Mi (0%)       350Mi (2%)     34h\n",
      "  kube-system                 azure-cns-fnqgr                                                    40m (1%)      40m (1%)    250Mi (2%)       250Mi (2%)     37h\n",
      "  kube-system                 azure-ip-masq-agent-rcqb8                                          100m (2%)     500m (12%)  50Mi (0%)        250Mi (2%)     37h\n",
      "  kube-system                 cloud-node-manager-zmwbw                                           50m (1%)      0 (0%)      50Mi (0%)        512Mi (4%)     37h\n",
      "  kube-system                 coredns-57d886c994-c8nj7                                           100m (2%)     3 (77%)     70Mi (0%)        500Mi (4%)     34h\n",
      "  kube-system                 coredns-57d886c994-qkb2g                                           100m (2%)     3 (77%)     70Mi (0%)        500Mi (4%)     37h\n",
      "  kube-system                 coredns-autoscaler-55bcd876cc-kpgph                                20m (0%)      200m (5%)   10Mi (0%)        500Mi (4%)     37h\n",
      "  kube-system                 csi-azuredisk-node-rmzhg                                           30m (0%)      0 (0%)      60Mi (0%)        2800Mi (23%)   37h\n",
      "  kube-system                 csi-azurefile-node-j8b2x                                           30m (0%)      0 (0%)      60Mi (0%)        600Mi (5%)     37h\n",
      "  kube-system                 konnectivity-agent-5b55b4c657-54nsf                                20m (0%)      1 (25%)     20Mi (0%)        1Gi (8%)       34h\n",
      "  kube-system                 konnectivity-agent-5b55b4c657-bxhhx                                20m (0%)      1 (25%)     20Mi (0%)        1Gi (8%)       37h\n",
      "  kube-system                 konnectivity-agent-autoscaler-679b77b4f-4g5d8                      20m (0%)      350m (9%)   10Mi (0%)        512M (4%)      37h\n",
      "  kube-system                 kube-proxy-bhcjl                                                   100m (2%)     0 (0%)      0 (0%)           0 (0%)         37h\n",
      "  kube-system                 metrics-server-67cc7fb655-9jr7l                                    157m (4%)     252m (6%)   142Mi (1%)       412Mi (3%)     37h\n",
      "  kube-system                 metrics-server-67cc7fb655-c2pfq                                    157m (4%)     252m (6%)   142Mi (1%)       412Mi (3%)     34h\n",
      "Allocated resources:\n",
      "  (Total limits may be over 100 percent, i.e., overcommitted.)\n",
      "  Resource           Requests      Limits\n",
      "  --------           --------      ------\n",
      "  cpu                1259m (32%)   10094m (261%)\n",
      "  memory             1374Mi (11%)  15620384Ki (129%)\n",
      "  ephemeral-storage  0 (0%)        0 (0%)\n",
      "  hugepages-1Gi      0 (0%)        0 (0%)\n",
      "  hugepages-2Mi      0 (0%)        0 (0%)\n",
      "Events:              <none>\n"
     ]
    }
   ],
   "source": [
    "!kubectl describe node"
   ]
  },
  {
   "cell_type": "markdown",
   "id": "3bdaf3bc-a5e0-44ca-9c88-1df3aa7f6a87",
   "metadata": {},
   "source": [
    "## Confirm Default StorageClass\n",
    "\n",
    "We need to confirm we have access to a default storage class that can be used to enable dynamic volume provisioning - this will be useful for provisioning the PVC's the nv-ingest pods will be bound to. There should be at least one storage class returned with the `(default)` marker next to it."
   ]
  },
  {
   "cell_type": "code",
   "execution_count": 49,
   "id": "28acd92c-50fd-4bd5-9122-aafa1a83cff2",
   "metadata": {},
   "outputs": [
    {
     "name": "stdout",
     "output_type": "stream",
     "text": [
      "NAME                    PROVISIONER          RECLAIMPOLICY   VOLUMEBINDINGMODE      ALLOWVOLUMEEXPANSION   AGE\n",
      "azurefile               file.csi.azure.com   Delete          Immediate              true                   150m\n",
      "azurefile-csi           file.csi.azure.com   Delete          Immediate              true                   150m\n",
      "azurefile-csi-premium   file.csi.azure.com   Delete          Immediate              true                   150m\n",
      "azurefile-premium       file.csi.azure.com   Delete          Immediate              true                   150m\n",
      "default (default)       disk.csi.azure.com   Delete          WaitForFirstConsumer   true                   150m\n",
      "managed                 disk.csi.azure.com   Delete          WaitForFirstConsumer   true                   150m\n",
      "managed-csi             disk.csi.azure.com   Delete          WaitForFirstConsumer   true                   150m\n",
      "managed-csi-premium     disk.csi.azure.com   Delete          WaitForFirstConsumer   true                   150m\n",
      "managed-premium         disk.csi.azure.com   Delete          WaitForFirstConsumer   true                   150m\n"
     ]
    }
   ],
   "source": [
    "%%bash\n",
    "kubectl get storageclass"
   ]
  },
  {
   "cell_type": "markdown",
   "id": "93181d0f",
   "metadata": {},
   "source": [
    "Fetch the NIM LLM Helm chart\n",
    "Now that we've configured the NGC API key, we can download the NIM LLM Helm chart from NGC using the following command:"
   ]
  },
  {
   "cell_type": "code",
   "execution_count": 5,
   "id": "52175adf",
   "metadata": {},
   "outputs": [],
   "source": [
    "!helm fetch https://helm.ngc.nvidia.com/nim/charts/nim-llm-1.7.0.tgz --username='$oauthtoken' --password=$NGC_CLI_API_KEY"
   ]
  },
  {
   "cell_type": "markdown",
   "id": "cac5a664",
   "metadata": {},
   "source": [
    "In order to configure and launch an NVIDIA NIM, it is important to configure the secrets we’ll need to pull all the model artifacts directly from NGC. This can be done using your NGC API key:"
   ]
  },
  {
   "cell_type": "code",
   "execution_count": 6,
   "id": "fdca2a62",
   "metadata": {},
   "outputs": [
    {
     "name": "stdout",
     "output_type": "stream",
     "text": [
      "secret/registry-secret created\n",
      "secret/ngc-api created\n"
     ]
    }
   ],
   "source": [
    "%%bash\n",
    "kubectl create secret docker-registry registry-secret --docker-server=nvcr.io --docker-username='$oauthtoken'     --docker-password=$NGC_CLI_API_KEY -n nim\n",
    "kubectl create secret generic ngc-api --from-literal=NGC_API_KEY=$NGC_CLI_API_KEY -n nim"
   ]
  },
  {
   "cell_type": "code",
   "execution_count": 31,
   "id": "0f7da974",
   "metadata": {},
   "outputs": [],
   "source": [
    "%%bash\n",
    "# create nim_custom_value.yaml manifest\n",
    "cat <<EOF > nim_custom_value.yaml\n",
    "image:\n",
    "  repository: \"nvcr.io/nim/meta/llama-3.1-8b-instruct\" # container location\n",
    "  tag: 1.3.3 # NIM version you want to deploy\n",
    "\n",
    "model:\n",
    "  ngcAPISecret: ngc-api  # name of a secret in the cluster that includes a key named NGC_CLI_API_KEY and is an NGC API key\n",
    "\n",
    "# Disable default persistence since we're using pre-created PV/PVC\n",
    "persistence:\n",
    "  enabled: false\n",
    "\n",
    "imagePullSecrets:\n",
    "  - name: registry-secret # name of a secret used to pull nvcr.io images\n",
    "\n",
    "resources:\n",
    "  limits:\n",
    "    nvidia.com/gpu: 1\n",
    "\n",
    "env:\n",
    "  - name: NIM_CACHE_PATH\n",
    "    value: /mnt/models\n",
    "\n",
    "\n",
    "extraVolumeMounts:\n",
    "  - name: hf-models\n",
    "    mountPath: /mnt/models\n",
    "\n",
    "extraVolumes:\n",
    "  - name: hf-models\n",
    "    persistentVolumeClaim:\n",
    "      claimName: hf-models-pvc\n",
    "EOF"
   ]
  },
  {
   "cell_type": "code",
   "execution_count": 32,
   "id": "42885e87",
   "metadata": {},
   "outputs": [
    {
     "name": "stdout",
     "output_type": "stream",
     "text": [
      "W0505 10:03:05.174540   58299 warnings.go:70] spec.template.spec.containers[0].env[6]: hides previous definition of \"NIM_CACHE_PATH\", which may be dropped when using apply\n",
      "NAME: my-nim\n",
      "LAST DEPLOYED: Mon May  5 10:03:03 2025\n",
      "NAMESPACE: nim\n",
      "STATUS: deployed\n",
      "REVISION: 1\n",
      "NOTES:\n",
      "Thank you for installing nim-llm.\n",
      "\n",
      "**************************************************\n",
      "| It may take some time for pods to become ready |\n",
      "| while model files download                     |\n",
      "**************************************************\n",
      "\n",
      "Your NIM version is: 1.3.3\n"
     ]
    }
   ],
   "source": [
    "!helm install my-nim nim-llm-1.7.0.tgz -f nim_custom_value.yaml --namespace nim"
   ]
  },
  {
   "cell_type": "code",
   "execution_count": 11,
   "id": "16d2263a",
   "metadata": {},
   "outputs": [
    {
     "name": "stdout",
     "output_type": "stream",
     "text": [
      "NAME               READY   STATUS             RESTARTS      AGE\n",
      "my-nim-nim-llm-0   0/1     CrashLoopBackOff   4 (45s ago)   2m31s\n",
      "pvc-debugger       1/1     Running            0             4m3s\n"
     ]
    }
   ],
   "source": [
    "!kubectl get pods -n nim"
   ]
  },
  {
   "cell_type": "code",
   "execution_count": 12,
   "id": "cbc9a9b6",
   "metadata": {
    "vscode": {
     "languageId": "markdown"
    }
   },
   "outputs": [
    {
     "name": "stdout",
     "output_type": "stream",
     "text": [
      "Name:             my-nim-nim-llm-0\n",
      "Namespace:        nim\n",
      "Priority:         0\n",
      "Service Account:  default\n",
      "Node:             aks-gpupool-75697254-vmss000000/10.224.0.5\n",
      "Start Time:       Mon, 05 May 2025 12:13:19 -0400\n",
      "Labels:           app.kubernetes.io/instance=my-nim\n",
      "                  app.kubernetes.io/name=nim-llm\n",
      "                  apps.kubernetes.io/pod-index=0\n",
      "                  controller-revision-hash=my-nim-nim-llm-87d7c6ccf\n",
      "                  statefulset.kubernetes.io/pod-name=my-nim-nim-llm-0\n",
      "Annotations:      <none>\n",
      "Status:           Running\n",
      "IP:               10.244.1.124\n",
      "IPs:\n",
      "  IP:           10.244.1.124\n",
      "Controlled By:  StatefulSet/my-nim-nim-llm\n",
      "Containers:\n",
      "  nim-llm:\n",
      "    Container ID:   containerd://6c7e26c21652d37ce4be965d646bec56644721db5f406f8f79b2f2d96ec51ddc\n",
      "    Image:          nvcr.io/nim/meta/llama-3.1-8b-instruct:1.3.3\n",
      "    Image ID:       nvcr.io/nim/meta/llama-3.1-8b-instruct@sha256:088a7f400286291e9c1512e326596f4caedd2ed7aa30b909d78cbd3727b55ee8\n",
      "    Port:           8000/TCP\n",
      "    Host Port:      0/TCP\n",
      "    State:          Waiting\n",
      "      Reason:       CrashLoopBackOff\n",
      "    Last State:     Terminated\n",
      "      Reason:       Error\n",
      "      Exit Code:    1\n",
      "      Started:      Mon, 05 May 2025 12:14:59 -0400\n",
      "      Finished:     Mon, 05 May 2025 12:14:59 -0400\n",
      "    Ready:          False\n",
      "    Restart Count:  4\n",
      "    Limits:\n",
      "      nvidia.com/gpu:  1\n",
      "    Requests:\n",
      "      nvidia.com/gpu:  1\n",
      "    Liveness:          http-get http://:http-openai/v1/health/live delay=15s timeout=1s period=10s #success=1 #failure=3\n",
      "    Readiness:         http-get http://:http-openai/v1/health/ready delay=15s timeout=1s period=10s #success=1 #failure=3\n",
      "    Startup:           http-get http://:http-openai/v1/health/ready delay=40s timeout=1s period=10s #success=1 #failure=180\n",
      "    Environment:\n",
      "      NIM_CACHE_PATH:      /model-store\n",
      "      NGC_API_KEY:         <set to the key 'NGC_API_KEY' in secret 'ngc-api'>  Optional: false\n",
      "      OUTLINES_CACHE_DIR:  /tmp/outlines\n",
      "      NIM_SERVER_PORT:     8000\n",
      "      NIM_JSONL_LOGGING:   1\n",
      "      NIM_LOG_LEVEL:       INFO\n",
      "      NIM_CACHE_PATH:      /mnt/models\n",
      "    Mounts:\n",
      "      /dev/shm from dshm (rw)\n",
      "      /model-store from model-store (rw)\n",
      "      /scripts from scripts-volume (rw)\n",
      "      /var/run/secrets/kubernetes.io/serviceaccount from kube-api-access-djm8z (ro)\n",
      "Conditions:\n",
      "  Type                        Status\n",
      "  PodReadyToStartContainers   True \n",
      "  Initialized                 True \n",
      "  Ready                       False \n",
      "  ContainersReady             False \n",
      "  PodScheduled                True \n",
      "Volumes:\n",
      "  dshm:\n",
      "    Type:       EmptyDir (a temporary directory that shares a pod's lifetime)\n",
      "    Medium:     Memory\n",
      "    SizeLimit:  <unset>\n",
      "  scripts-volume:\n",
      "    Type:      ConfigMap (a volume populated by a ConfigMap)\n",
      "    Name:      my-nim-nim-llm-scripts-configmap\n",
      "    Optional:  false\n",
      "  model-store:\n",
      "    Type:       EmptyDir (a temporary directory that shares a pod's lifetime)\n",
      "    Medium:     \n",
      "    SizeLimit:  <unset>\n",
      "  kube-api-access-djm8z:\n",
      "    Type:                    Projected (a volume that contains injected data from multiple sources)\n",
      "    TokenExpirationSeconds:  3607\n",
      "    ConfigMapName:           kube-root-ca.crt\n",
      "    ConfigMapOptional:       <nil>\n",
      "    DownwardAPI:             true\n",
      "QoS Class:                   BestEffort\n",
      "Node-Selectors:              <none>\n",
      "Tolerations:                 node.kubernetes.io/not-ready:NoExecute op=Exists for 300s\n",
      "                             node.kubernetes.io/unreachable:NoExecute op=Exists for 300s\n",
      "                             nvidia.com/gpu:NoSchedule op=Exists\n",
      "Events:\n",
      "  Type     Reason     Age                   From               Message\n",
      "  ----     ------     ----                  ----               -------\n",
      "  Normal   Scheduled  2m38s                 default-scheduler  Successfully assigned nim/my-nim-nim-llm-0 to aks-gpupool-75697254-vmss000000\n",
      "  Normal   Created    99s (x4 over 2m31s)   kubelet            Created container: nim-llm\n",
      "  Normal   Started    99s (x4 over 2m31s)   kubelet            Started container nim-llm\n",
      "  Warning  BackOff    64s (x12 over 2m30s)  kubelet            Back-off restarting failed container nim-llm in pod my-nim-nim-llm-0_nim(1ad6a843-a65e-4a6f-84d9-baa6c9984a23)\n",
      "  Normal   Pulled     52s (x5 over 2m31s)   kubelet            Container image \"nvcr.io/nim/meta/llama-3.1-8b-instruct:1.3.3\" already present on machine\n"
     ]
    }
   ],
   "source": [
    "# Describe the pod to check its status and events\n",
    "!kubectl describe pod my-nim-nim-llm-0 -n nim"
   ]
  },
  {
   "cell_type": "code",
   "execution_count": 36,
   "id": "89a6fb77",
   "metadata": {
    "vscode": {
     "languageId": "markdown"
    }
   },
   "outputs": [
    {
     "name": "stdout",
     "output_type": "stream",
     "text": [
      "Error from server (BadRequest): container \"nim-llm\" in pod \"my-nim-nim-llm-0\" is waiting to start: ContainerCreating\n"
     ]
    }
   ],
   "source": [
    "!kubectl logs my-nim-nim-llm-0 -n nim"
   ]
  },
  {
   "cell_type": "code",
   "execution_count": 13,
   "id": "7ee0f7b5",
   "metadata": {
    "vscode": {
     "languageId": "markdown"
    }
   },
   "outputs": [
    {
     "name": "stdout",
     "output_type": "stream",
     "text": [
      "\n",
      "===========================================\n",
      "== NVIDIA Inference Microservice LLM NIM ==\n",
      "===========================================\n",
      "\n",
      "NVIDIA Inference Microservice LLM NIM Version 1.3.0\n",
      "Model: meta/llama-3.1-8b-instruct\n",
      "\n",
      "Container image Copyright (c) 2016-2024, NVIDIA CORPORATION & AFFILIATES. All rights reserved.\n",
      "\n",
      "The NIM container is governed by the NVIDIA Software License Agreement (found at https://www.nvidia.com/en-us/agreements/enterprise-software/nvidia-software-license-agreement) and the Product Specific Terms for AI Products (found at https://www.nvidia.com/en-us/agreements/enterprise-software/product-specific-terms-for-ai-products).\n",
      "\n",
      "A copy of this license can be found under /opt/nim/LICENSE.\n",
      "\n",
      "The use of this model is governed by the NVIDIA AI Foundation Models Community License Agreement (https://www.nvidia.com/en-us/agreements/enterprise-software/nvidia-ai-foundation-models-community-license-agreement).\n",
      "\n",
      "ADDITIONAL INFORMATION: Llama 3.1 Community License Agreement, Built with Llama.\n",
      "Traceback (most recent call last):\n",
      "  File \"/opt/nim/llm/.venv/bin/nim-llm-check-cache-env\", line 6, in <module>\n",
      "    sys.exit(check_cache_dir())\n",
      "  File \"/opt/nim/llm/nim_llm_sdk/utils/caches.py\", line 35, in check_cache_dir\n",
      "    raise RuntimeError(f\"Unable to read from NIM_CACHE_PATH ({cache_path})\")\n",
      "RuntimeError: Unable to read from NIM_CACHE_PATH (/mnt/models)\n"
     ]
    }
   ],
   "source": [
    "!kubectl logs my-nim-nim-llm-0 -n nim"
   ]
  },
  {
   "cell_type": "code",
   "execution_count": 14,
   "id": "30f3aa99",
   "metadata": {
    "vscode": {
     "languageId": "markdown"
    }
   },
   "outputs": [
    {
     "name": "stdout",
     "output_type": "stream",
     "text": [
      "NAME                                  STATUS   VOLUME         CAPACITY   ACCESS MODES   STORAGECLASS   VOLUMEATTRIBUTESCLASS   AGE\n",
      "persistentvolumeclaim/hf-models-pvc   Bound    hf-models-pv   600Gi      RWX            azurefile      <unset>                 8m44s\n",
      "\n",
      "NAME                            CAPACITY   ACCESS MODES   RECLAIM POLICY   STATUS   CLAIM               STORAGECLASS   VOLUMEATTRIBUTESCLASS   REASON   AGE\n",
      "persistentvolume/hf-models-pv   600Gi      RWX            Retain           Bound    nim/hf-models-pvc   azurefile      <unset>                          8m45s\n"
     ]
    }
   ],
   "source": [
    "!kubectl get pvc,pv -n nim"
   ]
  },
  {
   "cell_type": "code",
   "execution_count": 27,
   "id": "13beeeb9",
   "metadata": {
    "vscode": {
     "languageId": "markdown"
    }
   },
   "outputs": [
    {
     "name": "stdout",
     "output_type": "stream",
     "text": [
      "release \"my-nim\" uninstalled\n"
     ]
    }
   ],
   "source": [
    "!helm uninstall my-nim -n nim"
   ]
  },
  {
   "cell_type": "code",
   "execution_count": null,
   "id": "0aa7e68b",
   "metadata": {
    "vscode": {
     "languageId": "markdown"
    }
   },
   "outputs": [],
   "source": [
    "!az aks nodepool stop --resource-group rg-aks-pvc --cluster-name akspvc --name gpupool"
   ]
  },
  {
   "cell_type": "code",
   "execution_count": 15,
   "id": "36a62791",
   "metadata": {
    "vscode": {
     "languageId": "markdown"
    }
   },
   "outputs": [
    {
     "name": "stdout",
     "output_type": "stream",
     "text": [
      "NAME               READY   STATUS    RESTARTS   AGE\n",
      "my-nim-nim-llm-0   0/1     Pending   0          2m12s\n"
     ]
    }
   ],
   "source": [
    "!kubectl get pods -n nim"
   ]
  },
  {
   "cell_type": "code",
   "execution_count": 16,
   "id": "d6e3164c",
   "metadata": {
    "vscode": {
     "languageId": "markdown"
    }
   },
   "outputs": [
    {
     "name": "stdout",
     "output_type": "stream",
     "text": [
      "\u001b[93mThe behavior of this command has been altered by the following extension: aks-preview\u001b[0m\n",
      "\u001b[K | Finished ..{\n",
      "  \"artifactStreamingProfile\": null,\n",
      "  \"availabilityZones\": null,\n",
      "  \"capacityReservationGroupId\": null,\n",
      "  \"count\": 1,\n",
      "  \"creationData\": null,\n",
      "  \"currentOrchestratorVersion\": \"1.31.7\",\n",
      "  \"eTag\": \"c3d804f1-641d-49f7-9e9e-11112a45d34f\",\n",
      "  \"enableAutoScaling\": false,\n",
      "  \"enableCustomCaTrust\": false,\n",
      "  \"enableEncryptionAtHost\": false,\n",
      "  \"enableFips\": false,\n",
      "  \"enableNodePublicIp\": false,\n",
      "  \"enableUltraSsd\": false,\n",
      "  \"gatewayProfile\": null,\n",
      "  \"gpuInstanceProfile\": null,\n",
      "  \"gpuProfile\": {\n",
      "    \"driverType\": \"\",\n",
      "    \"installGpuDriver\": false\n",
      "  },\n",
      "  \"hostGroupId\": null,\n",
      "  \"id\": \"/subscriptions/b7d41fc8-d35d-41db-92ed-1f7f1d32d4d9/resourcegroups/rg-aks-pvc/providers/Microsoft.ContainerService/managedClusters/akspvc/agentPools/gpupool\",\n",
      "  \"kubeletConfig\": null,\n",
      "  \"kubeletDiskType\": \"OS\",\n",
      "  \"linuxOsConfig\": null,\n",
      "  \"maxCount\": null,\n",
      "  \"maxPods\": 110,\n",
      "  \"messageOfTheDay\": null,\n",
      "  \"minCount\": null,\n",
      "  \"mode\": \"User\",\n",
      "  \"name\": \"gpupool\",\n",
      "  \"networkProfile\": {\n",
      "    \"allowedHostPorts\": null,\n",
      "    \"applicationSecurityGroups\": null,\n",
      "    \"nodePublicIpTags\": null\n",
      "  },\n",
      "  \"nodeImageVersion\": \"AKSUbuntu-2204gen2containerd-202504.16.0\",\n",
      "  \"nodeInitializationTaints\": null,\n",
      "  \"nodeLabels\": null,\n",
      "  \"nodePublicIpPrefixId\": null,\n",
      "  \"nodeTaints\": null,\n",
      "  \"orchestratorVersion\": \"1.31\",\n",
      "  \"osDiskSizeGb\": 2048,\n",
      "  \"osDiskType\": \"Managed\",\n",
      "  \"osSku\": \"Ubuntu\",\n",
      "  \"osType\": \"Linux\",\n",
      "  \"podIpAllocationMode\": null,\n",
      "  \"podSubnetId\": null,\n",
      "  \"powerState\": {\n",
      "    \"code\": \"Running\"\n",
      "  },\n",
      "  \"provisioningState\": \"Succeeded\",\n",
      "  \"proximityPlacementGroupId\": null,\n",
      "  \"resourceGroup\": \"rg-aks-pvc\",\n",
      "  \"scaleDownMode\": \"Delete\",\n",
      "  \"scaleSetEvictionPolicy\": null,\n",
      "  \"scaleSetPriority\": null,\n",
      "  \"securityProfile\": {\n",
      "    \"enableSecureBoot\": false,\n",
      "    \"enableVtpm\": false,\n",
      "    \"sshAccess\": \"LocalUser\"\n",
      "  },\n",
      "  \"spotMaxPrice\": null,\n",
      "  \"status\": null,\n",
      "  \"tags\": null,\n",
      "  \"type\": \"Microsoft.ContainerService/managedClusters/agentPools\",\n",
      "  \"typePropertiesType\": \"VirtualMachineScaleSets\",\n",
      "  \"upgradeSettings\": {\n",
      "    \"drainTimeoutInMinutes\": null,\n",
      "    \"maxBlockedNodes\": null,\n",
      "    \"maxSurge\": null,\n",
      "    \"maxUnavailable\": \"0\",\n",
      "    \"nodeSoakDurationInMinutes\": null,\n",
      "    \"undrainableNodeBehavior\": null\n",
      "  },\n",
      "  \"virtualMachineNodesStatus\": null,\n",
      "  \"virtualMachinesProfile\": null,\n",
      "  \"vmSize\": \"standard_nc24ads_a100_v4\",\n",
      "  \"vnetSubnetId\": null,\n",
      "  \"windowsProfile\": null,\n",
      "  \"workloadRuntime\": \"OCIContainer\"\n",
      "}\n"
     ]
    }
   ],
   "source": [
    "!az aks nodepool start --resource-group rg-aks-pvc --cluster-name akspvc --name gpupool"
   ]
  },
  {
   "cell_type": "code",
   "execution_count": 18,
   "id": "6ebb3ed5",
   "metadata": {
    "vscode": {
     "languageId": "markdown"
    }
   },
   "outputs": [
    {
     "name": "stdout",
     "output_type": "stream",
     "text": [
      "NAME               READY   STATUS    RESTARTS   AGE\n",
      "my-nim-nim-llm-0   1/1     Running   0          26m\n"
     ]
    }
   ],
   "source": [
    "!kubectl get pods -n nim"
   ]
  },
  {
   "cell_type": "code",
   "execution_count": 20,
   "id": "45c8fed0",
   "metadata": {
    "vscode": {
     "languageId": "markdown"
    }
   },
   "outputs": [
    {
     "name": "stdout",
     "output_type": "stream",
     "text": [
      "NAME                 TYPE        CLUSTER-IP    EXTERNAL-IP   PORT(S)    AGE\n",
      "my-nim-nim-llm       ClusterIP   10.0.24.148   <none>        8000/TCP   76m\n",
      "my-nim-nim-llm-sts   ClusterIP   None          <none>        8000/TCP   76m\n"
     ]
    }
   ],
   "source": [
    "!kubectl get svc -n nim"
   ]
  },
  {
   "cell_type": "code",
   "execution_count": 26,
   "id": "85b44bc9",
   "metadata": {
    "vscode": {
     "languageId": "markdown"
    }
   },
   "outputs": [],
   "source": [
    "# kubectl port-forward svc/my-nim-nim-llm 8000:8000 -n nim"
   ]
  },
  {
   "cell_type": "code",
   "execution_count": 25,
   "id": "68349b15",
   "metadata": {
    "vscode": {
     "languageId": "markdown"
    }
   },
   "outputs": [
    {
     "name": "stderr",
     "output_type": "stream",
     "text": [
      "  % Total    % Received % Xferd  Average Speed   Time    Time     Time  Current\n",
      "                                 Dload  Upload   Total   Spent    Left  Speed\n",
      "100  2820  100  2459  100   361    255     37  0:00:09  0:00:09 --:--:--   559  100   361    255     37  0:00:09  0:00:09 --:--:--   725\n"
     ]
    },
    {
     "name": "stdout",
     "output_type": "stream",
     "text": [
      "{\"id\":\"chat-d11de1e79e0949f695dfd626b9f58221\",\"object\":\"chat.completion\",\"created\":1746468631,\"model\":\"meta/llama-3.1-8b-instruct\",\"choices\":[{\"index\":0,\"message\":{\"role\":\"assistant\",\"content\":\"Spain is a wonderful destination! With 4 days, you'll have a great taste of the culture, food, and beauty of this beautiful country. Here are a few itinerary suggestions, depending on your interests:\\n\\n**Option 1: Explore Madrid**\\n\\n* Day 1: Arrive in Madrid, visit the Royal Palace, Prado Museum, and stroll through the beautiful Retiro Park.\\n* Day 2: Discover the historic center, including the Plaza Mayor, Puerta del Sol, and the lively Malasaña neighborhood.\\n* Day 3: Visit the stunning Almudena Cathedral and the nearby Sabatini Gardens. Enjoy a flamenco show in the evening.\\n* Day 4: Relax in the pleasant Parque del Oeste or visit the famous Rastro Market.\\n\\n**Option 2: Discover Barcelona**\\n\\n* Day 1: Arrive in Barcelona, visit the iconic Sagrada Familia, Park Güell, and the Gothic Quarter.\\n* Day 2: Explore the trendy El Born neighborhood, visit the Picasso Museum, and walk along La Rambla.\\n* Day 3: Discover the iconic beaches of Barceloneta, visit the Camp Nou Stadium (FC Barcelona's home), or hike to the top of Montjuïc for breathtaking views.\\n* Day 4: Visit the iconic La Boqueria Market, a world-renowned food market.\\n\\n**Option 3: Experience Seville**\\n\\n* Day 1: Arrive in Seville, visit the charming Santa Cruz neighborhood, the Cathedral of Seville, and the Royal Alc��zar Palace.\\n* Day 2: Take a stroll through the picturesque Triana neighborhood, visit the Flamenco Museum, and admire the Giralda Tower.\\n* Day 3: Take a scenic boat tour of the Guadalquivir River or visit the charming Isla Magica theme park.\\n* Day 4: Enjoy a delicious flamenco dinner in the.RecyclerView neighborhood or relax in the beautiful María Luisa Park.\\n\\n**Option 4: Visit Valencia**\\n\\n* Day 1: Arrive in Valencia, visit the stunning City of Arts and Sciences, including the iconic needle-shaped building, the L'Hemisfèric.\\n* Day 2: Explore the historic center, including the Central Market, the Silk Exchange, and the iconic Plaza de la Reina.\\n* Day 3: Relax on the beautiful beaches of Malvarrosa, visit the historic Turia Garden, or take a day trip to nearby Requena.\\n* Day 4:\"},\"logprobs\":null,\"finish_reason\":\"length\",\"stop_reason\":null}],\"usage\":{\"prompt_tokens\":42,\"total_tokens\":554,\"completion_tokens\":512},\"prompt_logprobs\":null}"
     ]
    }
   ],
   "source": [
    "%%bash\n",
    "curl -X 'POST' \\\n",
    "'http://localhost:8000/v1/chat/completions' \\\n",
    "-H 'accept: application/json' \\\n",
    "-H 'Content-Type: application/json' \\\n",
    "-d '{\n",
    "\"messages\": [\n",
    "    {\n",
    "    \"content\": \"You are a polite and respectful chatbot helping people plan a vacation.\",\n",
    "    \"role\": \"system\"\n",
    "    },\n",
    "    {\n",
    "    \"content\": \"What should I do for a 4 day vacation in Spain?\",\n",
    "    \"role\": \"user\"\n",
    "    }\n",
    "],\n",
    "\"model\": \"meta/llama-3.1-8b-instruct\",\n",
    "\"max_tokens\": 512,\n",
    "\"top_p\": 1,\n",
    "\"n\": 1,\n",
    "\"stream\": false,\n",
    "\"frequency_penalty\": 0.0\n",
    "}'"
   ]
  },
  {
   "cell_type": "code",
   "execution_count": null,
   "id": "92116c22",
   "metadata": {
    "vscode": {
     "languageId": "markdown"
    }
   },
   "outputs": [],
   "source": []
  }
 ],
 "metadata": {
  "kernelspec": {
   "display_name": "dev",
   "language": "python",
   "name": "python3"
  },
  "language_info": {
   "codemirror_mode": {
    "name": "ipython",
    "version": 3
   },
   "file_extension": ".py",
   "mimetype": "text/x-python",
   "name": "python",
   "nbconvert_exporter": "python",
   "pygments_lexer": "ipython3",
   "version": "3.10.16"
  }
 },
 "nbformat": 4,
 "nbformat_minor": 5
}
